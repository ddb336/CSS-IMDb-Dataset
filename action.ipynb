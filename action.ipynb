{
 "cells": [
  {
   "cell_type": "code",
   "execution_count": 1,
   "metadata": {},
   "outputs": [],
   "source": [
    "### Importing necessary libraries ###\n",
    "\n",
    "import pandas as pd\n",
    "import numpy as np\n",
    "import matplotlib.pyplot as plt\n",
    "import glob\n",
    "%matplotlib inline\n",
    "import seaborn as sns \n",
    "import scipy.stats  as stats\n",
    "import statsmodels.api as sm\n"
   ]
  },
  {
   "cell_type": "markdown",
   "metadata": {},
   "source": [
    "### Importing the reviews for all action movies from 2017-2021"
   ]
  },
  {
   "cell_type": "code",
   "execution_count": 4,
   "metadata": {},
   "outputs": [],
   "source": [
    "action_url =\"https://raw.githubusercontent.com/ddb336/CSS-IMDb-Dataset/main/Data/genres-combined/Action_reviews_combined.csv\""
   ]
  },
  {
   "cell_type": "code",
   "execution_count": 6,
   "metadata": {},
   "outputs": [
    {
     "name": "stdout",
     "output_type": "stream",
     "text": [
      "<class 'pandas.core.frame.DataFrame'>\n",
      "RangeIndex: 37212 entries, 0 to 37211\n",
      "Data columns (total 6 columns):\n",
      " #   Column                        Non-Null Count  Dtype  \n",
      "---  ------                        --------------  -----  \n",
      " 0   title_id                      37212 non-null  object \n",
      " 1   review_title                  37212 non-null  object \n",
      " 2   review_title_sentiment_score  37212 non-null  float64\n",
      " 3   review_text_sentiment_score   37212 non-null  float64\n",
      " 4   date                          37212 non-null  object \n",
      " 5   rating                        37212 non-null  int64  \n",
      "dtypes: float64(2), int64(1), object(3)\n",
      "memory usage: 1.7+ MB\n"
     ]
    }
   ],
   "source": [
    "action = pd.read_csv(action_url)\n",
    "\n",
    "action.info()"
   ]
  },
  {
   "cell_type": "code",
   "execution_count": 7,
   "metadata": {},
   "outputs": [
    {
     "data": {
      "text/html": [
       "<div>\n",
       "<style scoped>\n",
       "    .dataframe tbody tr th:only-of-type {\n",
       "        vertical-align: middle;\n",
       "    }\n",
       "\n",
       "    .dataframe tbody tr th {\n",
       "        vertical-align: top;\n",
       "    }\n",
       "\n",
       "    .dataframe thead th {\n",
       "        text-align: right;\n",
       "    }\n",
       "</style>\n",
       "<table border=\"1\" class=\"dataframe\">\n",
       "  <thead>\n",
       "    <tr style=\"text-align: right;\">\n",
       "      <th></th>\n",
       "      <th>title_id</th>\n",
       "      <th>review_title</th>\n",
       "      <th>review_title_sentiment_score</th>\n",
       "      <th>review_text_sentiment_score</th>\n",
       "      <th>date</th>\n",
       "      <th>rating</th>\n",
       "    </tr>\n",
       "  </thead>\n",
       "  <tbody>\n",
       "    <tr>\n",
       "      <th>0</th>\n",
       "      <td>tt2015381</td>\n",
       "      <td>There's 2 hours I'll never get back\\n</td>\n",
       "      <td>0.0000</td>\n",
       "      <td>-0.3909</td>\n",
       "      <td>2021-03-28 00:00:00</td>\n",
       "      <td>4</td>\n",
       "    </tr>\n",
       "    <tr>\n",
       "      <th>1</th>\n",
       "      <td>tt2015381</td>\n",
       "      <td>I AM Amazed\\n</td>\n",
       "      <td>0.4939</td>\n",
       "      <td>0.9863</td>\n",
       "      <td>2021-03-20 00:00:00</td>\n",
       "      <td>10</td>\n",
       "    </tr>\n",
       "    <tr>\n",
       "      <th>2</th>\n",
       "      <td>tt2015381</td>\n",
       "      <td>LITERALLY ONE OF THE FUNNIEST MOVIES YOU CAN ...</td>\n",
       "      <td>0.5574</td>\n",
       "      <td>0.9832</td>\n",
       "      <td>2021-03-19 00:00:00</td>\n",
       "      <td>9</td>\n",
       "    </tr>\n",
       "    <tr>\n",
       "      <th>3</th>\n",
       "      <td>tt2015381</td>\n",
       "      <td>my opinion\\n</td>\n",
       "      <td>0.0000</td>\n",
       "      <td>0.8833</td>\n",
       "      <td>2021-03-18 00:00:00</td>\n",
       "      <td>8</td>\n",
       "    </tr>\n",
       "    <tr>\n",
       "      <th>4</th>\n",
       "      <td>tt2015381</td>\n",
       "      <td>An obvious flawless scifi comedy comic book M...</td>\n",
       "      <td>0.9572</td>\n",
       "      <td>0.9785</td>\n",
       "      <td>2021-03-12 00:00:00</td>\n",
       "      <td>10</td>\n",
       "    </tr>\n",
       "  </tbody>\n",
       "</table>\n",
       "</div>"
      ],
      "text/plain": [
       "    title_id                                       review_title  \\\n",
       "0  tt2015381              There's 2 hours I'll never get back\\n   \n",
       "1  tt2015381                                      I AM Amazed\\n   \n",
       "2  tt2015381   LITERALLY ONE OF THE FUNNIEST MOVIES YOU CAN ...   \n",
       "3  tt2015381                                       my opinion\\n   \n",
       "4  tt2015381   An obvious flawless scifi comedy comic book M...   \n",
       "\n",
       "   review_title_sentiment_score  review_text_sentiment_score  \\\n",
       "0                        0.0000                      -0.3909   \n",
       "1                        0.4939                       0.9863   \n",
       "2                        0.5574                       0.9832   \n",
       "3                        0.0000                       0.8833   \n",
       "4                        0.9572                       0.9785   \n",
       "\n",
       "                  date  rating  \n",
       "0  2021-03-28 00:00:00       4  \n",
       "1  2021-03-20 00:00:00      10  \n",
       "2  2021-03-19 00:00:00       9  \n",
       "3  2021-03-18 00:00:00       8  \n",
       "4  2021-03-12 00:00:00      10  "
      ]
     },
     "execution_count": 7,
     "metadata": {},
     "output_type": "execute_result"
    }
   ],
   "source": [
    "action.head()"
   ]
  },
  {
   "cell_type": "markdown",
   "metadata": {},
   "source": [
    "### Data Filtering"
   ]
  },
  {
   "cell_type": "markdown",
   "metadata": {},
   "source": [
    "#### Fixing the 'date' column"
   ]
  },
  {
   "cell_type": "code",
   "execution_count": 9,
   "metadata": {
    "scrolled": true
   },
   "outputs": [
    {
     "data": {
      "text/plain": [
       "0        2021-03-28 00:00:00\n",
       "1        2021-03-20 00:00:00\n",
       "2        2021-03-19 00:00:00\n",
       "3        2021-03-18 00:00:00\n",
       "4        2021-03-12 00:00:00\n",
       "                ...         \n",
       "37207    2017-03-12 00:00:00\n",
       "37208    2017-01-04 00:00:00\n",
       "37209    2020-06-10 00:00:00\n",
       "37210    2020-02-19 00:00:00\n",
       "37211    2018-03-24 00:00:00\n",
       "Name: date, Length: 37212, dtype: object"
      ]
     },
     "execution_count": 9,
     "metadata": {},
     "output_type": "execute_result"
    }
   ],
   "source": [
    "## Chekcing the date column as it is an important independent variable in our research\n",
    "action['date']"
   ]
  },
  {
   "cell_type": "code",
   "execution_count": 10,
   "metadata": {},
   "outputs": [],
   "source": [
    "action['date'] = pd.to_datetime(action['date'])\n",
    "\n",
    "# action['date'] = pd.DatetimeIndex(action['date']).year\n",
    "# action['date'] = pd.to_datetime(action['date'],format='%m%Y', errors='coerce')\n",
    "\n"
   ]
  },
  {
   "cell_type": "code",
   "execution_count": 11,
   "metadata": {},
   "outputs": [
    {
     "data": {
      "text/html": [
       "<div>\n",
       "<style scoped>\n",
       "    .dataframe tbody tr th:only-of-type {\n",
       "        vertical-align: middle;\n",
       "    }\n",
       "\n",
       "    .dataframe tbody tr th {\n",
       "        vertical-align: top;\n",
       "    }\n",
       "\n",
       "    .dataframe thead th {\n",
       "        text-align: right;\n",
       "    }\n",
       "</style>\n",
       "<table border=\"1\" class=\"dataframe\">\n",
       "  <thead>\n",
       "    <tr style=\"text-align: right;\">\n",
       "      <th></th>\n",
       "      <th>title_id</th>\n",
       "      <th>review_title</th>\n",
       "      <th>review_title_sentiment_score</th>\n",
       "      <th>review_text_sentiment_score</th>\n",
       "      <th>date</th>\n",
       "      <th>rating</th>\n",
       "    </tr>\n",
       "  </thead>\n",
       "  <tbody>\n",
       "    <tr>\n",
       "      <th>0</th>\n",
       "      <td>tt2015381</td>\n",
       "      <td>There's 2 hours I'll never get back\\n</td>\n",
       "      <td>0.0000</td>\n",
       "      <td>-0.3909</td>\n",
       "      <td>2021-03-28</td>\n",
       "      <td>4</td>\n",
       "    </tr>\n",
       "    <tr>\n",
       "      <th>1</th>\n",
       "      <td>tt2015381</td>\n",
       "      <td>I AM Amazed\\n</td>\n",
       "      <td>0.4939</td>\n",
       "      <td>0.9863</td>\n",
       "      <td>2021-03-20</td>\n",
       "      <td>10</td>\n",
       "    </tr>\n",
       "    <tr>\n",
       "      <th>2</th>\n",
       "      <td>tt2015381</td>\n",
       "      <td>LITERALLY ONE OF THE FUNNIEST MOVIES YOU CAN ...</td>\n",
       "      <td>0.5574</td>\n",
       "      <td>0.9832</td>\n",
       "      <td>2021-03-19</td>\n",
       "      <td>9</td>\n",
       "    </tr>\n",
       "    <tr>\n",
       "      <th>3</th>\n",
       "      <td>tt2015381</td>\n",
       "      <td>my opinion\\n</td>\n",
       "      <td>0.0000</td>\n",
       "      <td>0.8833</td>\n",
       "      <td>2021-03-18</td>\n",
       "      <td>8</td>\n",
       "    </tr>\n",
       "    <tr>\n",
       "      <th>4</th>\n",
       "      <td>tt2015381</td>\n",
       "      <td>An obvious flawless scifi comedy comic book M...</td>\n",
       "      <td>0.9572</td>\n",
       "      <td>0.9785</td>\n",
       "      <td>2021-03-12</td>\n",
       "      <td>10</td>\n",
       "    </tr>\n",
       "  </tbody>\n",
       "</table>\n",
       "</div>"
      ],
      "text/plain": [
       "    title_id                                       review_title  \\\n",
       "0  tt2015381              There's 2 hours I'll never get back\\n   \n",
       "1  tt2015381                                      I AM Amazed\\n   \n",
       "2  tt2015381   LITERALLY ONE OF THE FUNNIEST MOVIES YOU CAN ...   \n",
       "3  tt2015381                                       my opinion\\n   \n",
       "4  tt2015381   An obvious flawless scifi comedy comic book M...   \n",
       "\n",
       "   review_title_sentiment_score  review_text_sentiment_score       date  \\\n",
       "0                        0.0000                      -0.3909 2021-03-28   \n",
       "1                        0.4939                       0.9863 2021-03-20   \n",
       "2                        0.5574                       0.9832 2021-03-19   \n",
       "3                        0.0000                       0.8833 2021-03-18   \n",
       "4                        0.9572                       0.9785 2021-03-12   \n",
       "\n",
       "   rating  \n",
       "0       4  \n",
       "1      10  \n",
       "2       9  \n",
       "3       8  \n",
       "4      10  "
      ]
     },
     "execution_count": 11,
     "metadata": {},
     "output_type": "execute_result"
    }
   ],
   "source": [
    "action.head()"
   ]
  },
  {
   "cell_type": "code",
   "execution_count": 12,
   "metadata": {},
   "outputs": [
    {
     "data": {
      "text/plain": [
       "title_id                                object\n",
       "review_title                            object\n",
       "review_title_sentiment_score           float64\n",
       "review_text_sentiment_score            float64\n",
       "date                            datetime64[ns]\n",
       "rating                                   int64\n",
       "dtype: object"
      ]
     },
     "execution_count": 12,
     "metadata": {},
     "output_type": "execute_result"
    }
   ],
   "source": [
    "action.dtypes"
   ]
  },
  {
   "cell_type": "markdown",
   "metadata": {},
   "source": [
    "#### Fixing the sentiment analysis columns"
   ]
  },
  {
   "cell_type": "code",
   "execution_count": 13,
   "metadata": {},
   "outputs": [],
   "source": [
    "action.rename(columns={'review_title_sentiment_score': 'title_score', 'review_text_sentiment_score': 'text_score'},inplace=True)"
   ]
  },
  {
   "cell_type": "code",
   "execution_count": 14,
   "metadata": {},
   "outputs": [
    {
     "data": {
      "text/html": [
       "<div>\n",
       "<style scoped>\n",
       "    .dataframe tbody tr th:only-of-type {\n",
       "        vertical-align: middle;\n",
       "    }\n",
       "\n",
       "    .dataframe tbody tr th {\n",
       "        vertical-align: top;\n",
       "    }\n",
       "\n",
       "    .dataframe thead th {\n",
       "        text-align: right;\n",
       "    }\n",
       "</style>\n",
       "<table border=\"1\" class=\"dataframe\">\n",
       "  <thead>\n",
       "    <tr style=\"text-align: right;\">\n",
       "      <th></th>\n",
       "      <th>title_id</th>\n",
       "      <th>review_title</th>\n",
       "      <th>title_score</th>\n",
       "      <th>text_score</th>\n",
       "      <th>date</th>\n",
       "      <th>rating</th>\n",
       "    </tr>\n",
       "  </thead>\n",
       "  <tbody>\n",
       "    <tr>\n",
       "      <th>0</th>\n",
       "      <td>tt2015381</td>\n",
       "      <td>There's 2 hours I'll never get back\\n</td>\n",
       "      <td>0.0000</td>\n",
       "      <td>-0.3909</td>\n",
       "      <td>2021-03-28</td>\n",
       "      <td>4</td>\n",
       "    </tr>\n",
       "    <tr>\n",
       "      <th>1</th>\n",
       "      <td>tt2015381</td>\n",
       "      <td>I AM Amazed\\n</td>\n",
       "      <td>0.4939</td>\n",
       "      <td>0.9863</td>\n",
       "      <td>2021-03-20</td>\n",
       "      <td>10</td>\n",
       "    </tr>\n",
       "    <tr>\n",
       "      <th>2</th>\n",
       "      <td>tt2015381</td>\n",
       "      <td>LITERALLY ONE OF THE FUNNIEST MOVIES YOU CAN ...</td>\n",
       "      <td>0.5574</td>\n",
       "      <td>0.9832</td>\n",
       "      <td>2021-03-19</td>\n",
       "      <td>9</td>\n",
       "    </tr>\n",
       "    <tr>\n",
       "      <th>3</th>\n",
       "      <td>tt2015381</td>\n",
       "      <td>my opinion\\n</td>\n",
       "      <td>0.0000</td>\n",
       "      <td>0.8833</td>\n",
       "      <td>2021-03-18</td>\n",
       "      <td>8</td>\n",
       "    </tr>\n",
       "    <tr>\n",
       "      <th>4</th>\n",
       "      <td>tt2015381</td>\n",
       "      <td>An obvious flawless scifi comedy comic book M...</td>\n",
       "      <td>0.9572</td>\n",
       "      <td>0.9785</td>\n",
       "      <td>2021-03-12</td>\n",
       "      <td>10</td>\n",
       "    </tr>\n",
       "  </tbody>\n",
       "</table>\n",
       "</div>"
      ],
      "text/plain": [
       "    title_id                                       review_title  title_score  \\\n",
       "0  tt2015381              There's 2 hours I'll never get back\\n       0.0000   \n",
       "1  tt2015381                                      I AM Amazed\\n       0.4939   \n",
       "2  tt2015381   LITERALLY ONE OF THE FUNNIEST MOVIES YOU CAN ...       0.5574   \n",
       "3  tt2015381                                       my opinion\\n       0.0000   \n",
       "4  tt2015381   An obvious flawless scifi comedy comic book M...       0.9572   \n",
       "\n",
       "   text_score       date  rating  \n",
       "0     -0.3909 2021-03-28       4  \n",
       "1      0.9863 2021-03-20      10  \n",
       "2      0.9832 2021-03-19       9  \n",
       "3      0.8833 2021-03-18       8  \n",
       "4      0.9785 2021-03-12      10  "
      ]
     },
     "execution_count": 14,
     "metadata": {},
     "output_type": "execute_result"
    }
   ],
   "source": [
    "action.head()"
   ]
  },
  {
   "cell_type": "code",
   "execution_count": 15,
   "metadata": {},
   "outputs": [
    {
     "data": {
      "text/plain": [
       "title_id                object\n",
       "review_title            object\n",
       "title_score            float64\n",
       "text_score             float64\n",
       "date            datetime64[ns]\n",
       "rating                   int64\n",
       "dtype: object"
      ]
     },
     "execution_count": 15,
     "metadata": {},
     "output_type": "execute_result"
    }
   ],
   "source": [
    "action.dtypes"
   ]
  },
  {
   "cell_type": "code",
   "execution_count": 16,
   "metadata": {},
   "outputs": [
    {
     "data": {
      "text/html": [
       "<div>\n",
       "<style scoped>\n",
       "    .dataframe tbody tr th:only-of-type {\n",
       "        vertical-align: middle;\n",
       "    }\n",
       "\n",
       "    .dataframe tbody tr th {\n",
       "        vertical-align: top;\n",
       "    }\n",
       "\n",
       "    .dataframe thead th {\n",
       "        text-align: right;\n",
       "    }\n",
       "</style>\n",
       "<table border=\"1\" class=\"dataframe\">\n",
       "  <thead>\n",
       "    <tr style=\"text-align: right;\">\n",
       "      <th></th>\n",
       "      <th>title_id</th>\n",
       "      <th>review_title</th>\n",
       "      <th>title_score</th>\n",
       "      <th>text_score</th>\n",
       "      <th>date</th>\n",
       "      <th>rating</th>\n",
       "    </tr>\n",
       "  </thead>\n",
       "  <tbody>\n",
       "    <tr>\n",
       "      <th>0</th>\n",
       "      <td>tt2015381</td>\n",
       "      <td>There's 2 hours I'll never get back\\n</td>\n",
       "      <td>0.0000</td>\n",
       "      <td>-0.3909</td>\n",
       "      <td>2021-03-28</td>\n",
       "      <td>4</td>\n",
       "    </tr>\n",
       "    <tr>\n",
       "      <th>1</th>\n",
       "      <td>tt2015381</td>\n",
       "      <td>I AM Amazed\\n</td>\n",
       "      <td>0.4939</td>\n",
       "      <td>0.9863</td>\n",
       "      <td>2021-03-20</td>\n",
       "      <td>10</td>\n",
       "    </tr>\n",
       "    <tr>\n",
       "      <th>2</th>\n",
       "      <td>tt2015381</td>\n",
       "      <td>LITERALLY ONE OF THE FUNNIEST MOVIES YOU CAN ...</td>\n",
       "      <td>0.5574</td>\n",
       "      <td>0.9832</td>\n",
       "      <td>2021-03-19</td>\n",
       "      <td>9</td>\n",
       "    </tr>\n",
       "    <tr>\n",
       "      <th>3</th>\n",
       "      <td>tt2015381</td>\n",
       "      <td>my opinion\\n</td>\n",
       "      <td>0.0000</td>\n",
       "      <td>0.8833</td>\n",
       "      <td>2021-03-18</td>\n",
       "      <td>8</td>\n",
       "    </tr>\n",
       "    <tr>\n",
       "      <th>4</th>\n",
       "      <td>tt2015381</td>\n",
       "      <td>An obvious flawless scifi comedy comic book M...</td>\n",
       "      <td>0.9572</td>\n",
       "      <td>0.9785</td>\n",
       "      <td>2021-03-12</td>\n",
       "      <td>10</td>\n",
       "    </tr>\n",
       "    <tr>\n",
       "      <th>...</th>\n",
       "      <td>...</td>\n",
       "      <td>...</td>\n",
       "      <td>...</td>\n",
       "      <td>...</td>\n",
       "      <td>...</td>\n",
       "      <td>...</td>\n",
       "    </tr>\n",
       "    <tr>\n",
       "      <th>37207</th>\n",
       "      <td>tt1935302</td>\n",
       "      <td>Fool me once, shame on you, fool me twice, sh...</td>\n",
       "      <td>-0.9001</td>\n",
       "      <td>-0.9364</td>\n",
       "      <td>2017-03-12</td>\n",
       "      <td>1</td>\n",
       "    </tr>\n",
       "    <tr>\n",
       "      <th>37208</th>\n",
       "      <td>tt1935302</td>\n",
       "      <td>Total trash\\n</td>\n",
       "      <td>0.0000</td>\n",
       "      <td>-0.8843</td>\n",
       "      <td>2017-01-04</td>\n",
       "      <td>1</td>\n",
       "    </tr>\n",
       "    <tr>\n",
       "      <th>37209</th>\n",
       "      <td>tt2678948</td>\n",
       "      <td>A well taken family crime picture\\n</td>\n",
       "      <td>-0.3400</td>\n",
       "      <td>0.2263</td>\n",
       "      <td>2020-06-10</td>\n",
       "      <td>10</td>\n",
       "    </tr>\n",
       "    <tr>\n",
       "      <th>37210</th>\n",
       "      <td>tt2678948</td>\n",
       "      <td>OLD WINE\\n</td>\n",
       "      <td>0.0000</td>\n",
       "      <td>0.8481</td>\n",
       "      <td>2020-02-19</td>\n",
       "      <td>7</td>\n",
       "    </tr>\n",
       "    <tr>\n",
       "      <th>37211</th>\n",
       "      <td>tt2678948</td>\n",
       "      <td>Decent Entertainer\\n</td>\n",
       "      <td>0.3818</td>\n",
       "      <td>0.9871</td>\n",
       "      <td>2018-03-24</td>\n",
       "      <td>6</td>\n",
       "    </tr>\n",
       "  </tbody>\n",
       "</table>\n",
       "<p>37212 rows × 6 columns</p>\n",
       "</div>"
      ],
      "text/plain": [
       "        title_id                                       review_title  \\\n",
       "0      tt2015381              There's 2 hours I'll never get back\\n   \n",
       "1      tt2015381                                      I AM Amazed\\n   \n",
       "2      tt2015381   LITERALLY ONE OF THE FUNNIEST MOVIES YOU CAN ...   \n",
       "3      tt2015381                                       my opinion\\n   \n",
       "4      tt2015381   An obvious flawless scifi comedy comic book M...   \n",
       "...          ...                                                ...   \n",
       "37207  tt1935302   Fool me once, shame on you, fool me twice, sh...   \n",
       "37208  tt1935302                                      Total trash\\n   \n",
       "37209  tt2678948                A well taken family crime picture\\n   \n",
       "37210  tt2678948                                         OLD WINE\\n   \n",
       "37211  tt2678948                               Decent Entertainer\\n   \n",
       "\n",
       "       title_score  text_score       date  rating  \n",
       "0           0.0000     -0.3909 2021-03-28       4  \n",
       "1           0.4939      0.9863 2021-03-20      10  \n",
       "2           0.5574      0.9832 2021-03-19       9  \n",
       "3           0.0000      0.8833 2021-03-18       8  \n",
       "4           0.9572      0.9785 2021-03-12      10  \n",
       "...            ...         ...        ...     ...  \n",
       "37207      -0.9001     -0.9364 2017-03-12       1  \n",
       "37208       0.0000     -0.8843 2017-01-04       1  \n",
       "37209      -0.3400      0.2263 2020-06-10      10  \n",
       "37210       0.0000      0.8481 2020-02-19       7  \n",
       "37211       0.3818      0.9871 2018-03-24       6  \n",
       "\n",
       "[37212 rows x 6 columns]"
      ]
     },
     "execution_count": 16,
     "metadata": {},
     "output_type": "execute_result"
    }
   ],
   "source": [
    "action"
   ]
  },
  {
   "cell_type": "code",
   "execution_count": 335,
   "metadata": {},
   "outputs": [],
   "source": [
    "# action['date'] = action['date'].values.astype(float)"
   ]
  },
  {
   "cell_type": "code",
   "execution_count": 337,
   "metadata": {},
   "outputs": [],
   "source": [
    "# df = action[(action['date'] > '2020-3-1') & (action['date'] <= '2020-3-31')]\n"
   ]
  },
  {
   "cell_type": "code",
   "execution_count": 338,
   "metadata": {},
   "outputs": [
    {
     "data": {
      "text/html": [
       "<div>\n",
       "<style scoped>\n",
       "    .dataframe tbody tr th:only-of-type {\n",
       "        vertical-align: middle;\n",
       "    }\n",
       "\n",
       "    .dataframe tbody tr th {\n",
       "        vertical-align: top;\n",
       "    }\n",
       "\n",
       "    .dataframe thead th {\n",
       "        text-align: right;\n",
       "    }\n",
       "</style>\n",
       "<table border=\"1\" class=\"dataframe\">\n",
       "  <thead>\n",
       "    <tr style=\"text-align: right;\">\n",
       "      <th></th>\n",
       "      <th>title_id</th>\n",
       "      <th>review_title</th>\n",
       "      <th>review_title_sentiment_score</th>\n",
       "      <th>review_text_sentiment_score</th>\n",
       "      <th>date</th>\n",
       "      <th>rating</th>\n",
       "    </tr>\n",
       "  </thead>\n",
       "  <tbody>\n",
       "    <tr>\n",
       "      <th>175</th>\n",
       "      <td>tt2267998</td>\n",
       "      <td>gone girl\\n</td>\n",
       "      <td>0.0000</td>\n",
       "      <td>0.2263</td>\n",
       "      <td>2020-03-31</td>\n",
       "      <td>9</td>\n",
       "    </tr>\n",
       "    <tr>\n",
       "      <th>176</th>\n",
       "      <td>tt2267998</td>\n",
       "      <td>Hot\\n</td>\n",
       "      <td>0.0000</td>\n",
       "      <td>0.3612</td>\n",
       "      <td>2020-03-31</td>\n",
       "      <td>10</td>\n",
       "    </tr>\n",
       "    <tr>\n",
       "      <th>177</th>\n",
       "      <td>tt2267998</td>\n",
       "      <td>Watching this movie made me feel sick\\n</td>\n",
       "      <td>-0.5106</td>\n",
       "      <td>-0.7100</td>\n",
       "      <td>2020-03-30</td>\n",
       "      <td>2</td>\n",
       "    </tr>\n",
       "    <tr>\n",
       "      <th>178</th>\n",
       "      <td>tt2267998</td>\n",
       "      <td>Thought-provoking\\n</td>\n",
       "      <td>0.0000</td>\n",
       "      <td>0.9937</td>\n",
       "      <td>2020-03-30</td>\n",
       "      <td>8</td>\n",
       "    </tr>\n",
       "    <tr>\n",
       "      <th>179</th>\n",
       "      <td>tt2267998</td>\n",
       "      <td>Fair but not fair enough\\n</td>\n",
       "      <td>-0.2006</td>\n",
       "      <td>0.6808</td>\n",
       "      <td>2020-03-28</td>\n",
       "      <td>8</td>\n",
       "    </tr>\n",
       "    <tr>\n",
       "      <th>...</th>\n",
       "      <td>...</td>\n",
       "      <td>...</td>\n",
       "      <td>...</td>\n",
       "      <td>...</td>\n",
       "      <td>...</td>\n",
       "      <td>...</td>\n",
       "    </tr>\n",
       "    <tr>\n",
       "      <th>20126</th>\n",
       "      <td>tt2180994</td>\n",
       "      <td>Entertaining\\n</td>\n",
       "      <td>0.4404</td>\n",
       "      <td>0.9633</td>\n",
       "      <td>2020-03-02</td>\n",
       "      <td>8</td>\n",
       "    </tr>\n",
       "    <tr>\n",
       "      <th>20127</th>\n",
       "      <td>tt2180994</td>\n",
       "      <td>A Good Marriage = A Bad Movie\\n</td>\n",
       "      <td>-0.1531</td>\n",
       "      <td>0.7935</td>\n",
       "      <td>2020-03-02</td>\n",
       "      <td>3</td>\n",
       "    </tr>\n",
       "    <tr>\n",
       "      <th>20160</th>\n",
       "      <td>tt3896738</td>\n",
       "      <td>Australian gem about a sexual-predator serial...</td>\n",
       "      <td>-0.6486</td>\n",
       "      <td>-0.9531</td>\n",
       "      <td>2020-03-09</td>\n",
       "      <td>7</td>\n",
       "    </tr>\n",
       "    <tr>\n",
       "      <th>20238</th>\n",
       "      <td>tt4382872</td>\n",
       "      <td>Great Fight Scenes\\n</td>\n",
       "      <td>0.3612</td>\n",
       "      <td>0.5994</td>\n",
       "      <td>2020-03-18</td>\n",
       "      <td>9</td>\n",
       "    </tr>\n",
       "    <tr>\n",
       "      <th>20350</th>\n",
       "      <td>tt2952602</td>\n",
       "      <td>A very good movie.. prob one of the better on...</td>\n",
       "      <td>0.7264</td>\n",
       "      <td>0.9640</td>\n",
       "      <td>2020-03-06</td>\n",
       "      <td>9</td>\n",
       "    </tr>\n",
       "  </tbody>\n",
       "</table>\n",
       "<p>430 rows × 6 columns</p>\n",
       "</div>"
      ],
      "text/plain": [
       "        title_id                                       review_title  \\\n",
       "175    tt2267998                                        gone girl\\n   \n",
       "176    tt2267998                                              Hot\\n   \n",
       "177    tt2267998            Watching this movie made me feel sick\\n   \n",
       "178    tt2267998                                Thought-provoking\\n   \n",
       "179    tt2267998                         Fair but not fair enough\\n   \n",
       "...          ...                                                ...   \n",
       "20126  tt2180994                                     Entertaining\\n   \n",
       "20127  tt2180994                    A Good Marriage = A Bad Movie\\n   \n",
       "20160  tt3896738   Australian gem about a sexual-predator serial...   \n",
       "20238  tt4382872                               Great Fight Scenes\\n   \n",
       "20350  tt2952602   A very good movie.. prob one of the better on...   \n",
       "\n",
       "       review_title_sentiment_score  review_text_sentiment_score       date  \\\n",
       "175                          0.0000                       0.2263 2020-03-31   \n",
       "176                          0.0000                       0.3612 2020-03-31   \n",
       "177                         -0.5106                      -0.7100 2020-03-30   \n",
       "178                          0.0000                       0.9937 2020-03-30   \n",
       "179                         -0.2006                       0.6808 2020-03-28   \n",
       "...                             ...                          ...        ...   \n",
       "20126                        0.4404                       0.9633 2020-03-02   \n",
       "20127                       -0.1531                       0.7935 2020-03-02   \n",
       "20160                       -0.6486                      -0.9531 2020-03-09   \n",
       "20238                        0.3612                       0.5994 2020-03-18   \n",
       "20350                        0.7264                       0.9640 2020-03-06   \n",
       "\n",
       "       rating  \n",
       "175         9  \n",
       "176        10  \n",
       "177         2  \n",
       "178         8  \n",
       "179         8  \n",
       "...       ...  \n",
       "20126       8  \n",
       "20127       3  \n",
       "20160       7  \n",
       "20238       9  \n",
       "20350       9  \n",
       "\n",
       "[430 rows x 6 columns]"
      ]
     },
     "execution_count": 338,
     "metadata": {},
     "output_type": "execute_result"
    }
   ],
   "source": [
    "# df"
   ]
  },
  {
   "cell_type": "code",
   "execution_count": 181,
   "metadata": {},
   "outputs": [
    {
     "data": {
      "text/plain": [
       "title_id                object\n",
       "review_title            object\n",
       "title_score            float64\n",
       "text_score             float64\n",
       "date            datetime64[ns]\n",
       "rating                   int64\n",
       "year                     int64\n",
       "month                    int64\n",
       "dtype: object"
      ]
     },
     "execution_count": 181,
     "metadata": {},
     "output_type": "execute_result"
    }
   ],
   "source": [
    "action.dtypes"
   ]
  },
  {
   "cell_type": "markdown",
   "metadata": {},
   "source": [
    "### Getting data on monthly and yearly basis"
   ]
  },
  {
   "cell_type": "code",
   "execution_count": 22,
   "metadata": {},
   "outputs": [],
   "source": [
    "action['year']=action['date'].dt.year\n",
    "action['month']=action['date'].dt.month\n",
    "t = action.groupby(['year','month']).mean()"
   ]
  },
  {
   "cell_type": "code",
   "execution_count": 21,
   "metadata": {
    "scrolled": true
   },
   "outputs": [],
   "source": [
    "action['year']=action['date'].dt.year\n",
    "action['month']=action['date'].dt.month\n",
    "m = action.groupby(['year','month']).std()"
   ]
  },
  {
   "cell_type": "code",
   "execution_count": null,
   "metadata": {},
   "outputs": [],
   "source": []
  },
  {
   "cell_type": "code",
   "execution_count": 23,
   "metadata": {},
   "outputs": [
    {
     "data": {
      "text/plain": [
       "<AxesSubplot:xlabel='month'>"
      ]
     },
     "execution_count": 23,
     "metadata": {},
     "output_type": "execute_result"
    },
    {
     "data": {
      "image/png": "[encoded data removed]",
      "text/plain": [
       "<Figure size 432x288 with 1 Axes>"
      ]
     },
     "metadata": {
      "needs_background": "light"
     },
     "output_type": "display_data"
    },
    {
     "data": {
      "image/png": "[encoded data removed]",
      "text/plain": [
       "<Figure size 432x288 with 1 Axes>"
      ]
     },
     "metadata": {
      "needs_background": "light"
     },
     "output_type": "display_data"
    }
   ],
   "source": [
    "t.xs(key=2020,axis=0,level='year').plot(y='title_score')\n",
    "m.xs(key=2020,axis=0,level='year').plot(y='title_score')"
   ]
  },
  {
   "cell_type": "code",
   "execution_count": null,
   "metadata": {},
   "outputs": [],
   "source": []
  },
  {
   "cell_type": "markdown",
   "metadata": {},
   "source": [
    "## Visualizations"
   ]
  },
  {
   "cell_type": "code",
   "execution_count": 29,
   "metadata": {},
   "outputs": [
    {
     "data": {
      "text/plain": [
       "<AxesSubplot:xlabel='year,month'>"
      ]
     },
     "execution_count": 29,
     "metadata": {},
     "output_type": "execute_result"
    },
    {
     "data": {
      "image/png": "[encoded data removed]",
      "text/plain": [
       "<Figure size 432x288 with 1 Axes>"
      ]
     },
     "metadata": {
      "needs_background": "light"
     },
     "output_type": "display_data"
    }
   ],
   "source": [
    "count = action.groupby(['year','month']).count()\n",
    "count.plot(y='title_score')"
   ]
  },
  {
   "cell_type": "code",
   "execution_count": 30,
   "metadata": {},
   "outputs": [
    {
     "data": {
      "text/plain": [
       "<AxesSubplot:xlabel='month'>"
      ]
     },
     "execution_count": 30,
     "metadata": {},
     "output_type": "execute_result"
    },
    {
     "data": {
      "image/png": "[encoded data removed]",
      "text/plain": [
       "<Figure size 432x288 with 1 Axes>"
      ]
     },
     "metadata": {
      "needs_background": "light"
     },
     "output_type": "display_data"
    }
   ],
   "source": [
    "count.xs(key=2020,axis=0,level='year').plot(y='title_score')"
   ]
  },
  {
   "cell_type": "code",
   "execution_count": 31,
   "metadata": {},
   "outputs": [
    {
     "data": {
      "text/plain": [
       "<matplotlib.legend.Legend at 0x261c8915e20>"
      ]
     },
     "execution_count": 31,
     "metadata": {},
     "output_type": "execute_result"
    },
    {
     "data": {
      "text/plain": [
       "<Figure size 864x432 with 0 Axes>"
      ]
     },
     "metadata": {},
     "output_type": "display_data"
    },
    {
     "data": {
      "image/png": "[encoded data removed]",
      "text/plain": [
       "<Figure size 432x288 with 1 Axes>"
      ]
     },
     "metadata": {
      "needs_background": "light"
     },
     "output_type": "display_data"
    },
    {
     "data": {
      "image/png": "[encoded data removed]",
      "text/plain": [
       "<Figure size 432x288 with 1 Axes>"
      ]
     },
     "metadata": {
      "needs_background": "light"
     },
     "output_type": "display_data"
    }
   ],
   "source": [
    "## Plotting title and text scores\n",
    "plt.figure(figsize=(12,6))\n",
    "t.plot(y='title_score')\n",
    "t.plot(y='text_score')\n",
    "plt.legend()"
   ]
  },
  {
   "cell_type": "code",
   "execution_count": 27,
   "metadata": {},
   "outputs": [
    {
     "data": {
      "text/plain": [
       "<matplotlib.legend.Legend at 0x261c86301c0>"
      ]
     },
     "execution_count": 27,
     "metadata": {},
     "output_type": "execute_result"
    },
    {
     "data": {
      "image/png": "[encoded data removed]",
      "text/plain": [
       "<Figure size 864x432 with 1 Axes>"
      ]
     },
     "metadata": {
      "needs_background": "light"
     },
     "output_type": "display_data"
    }
   ],
   "source": [
    "plt.figure(figsize=(12,6))\n",
    "t.xs(key=2020,axis=0,level='year')['title_score'].plot(label='title_score')\n",
    "t.xs(key=2020,axis=0,level='year')['text_score'].plot(label='text_score')\n",
    "plt.legend()"
   ]
  },
  {
   "cell_type": "code",
   "execution_count": 21,
   "metadata": {},
   "outputs": [],
   "source": [
    "### Testing for overall changes in mood and reviews over time "
   ]
  },
  {
   "cell_type": "code",
   "execution_count": 37,
   "metadata": {},
   "outputs": [],
   "source": [
    "# action['date'].loc[\"2020-03-31\"]\n"
   ]
  },
  {
   "cell_type": "code",
   "execution_count": 184,
   "metadata": {},
   "outputs": [],
   "source": [
    "# sns.barplot(x='date',y='text_score',data=action)"
   ]
  },
  {
   "cell_type": "code",
   "execution_count": 310,
   "metadata": {},
   "outputs": [
    {
     "data": {
      "text/plain": [
       "array([ 0.981 ,  0.    , -0.9966, ..., -0.4316, -0.4489,  0.0036])"
      ]
     },
     "execution_count": 310,
     "metadata": {},
     "output_type": "execute_result"
    }
   ],
   "source": [
    "action['text_score'].unique()"
   ]
  },
  {
   "cell_type": "code",
   "execution_count": 17,
   "metadata": {},
   "outputs": [],
   "source": [
    "# fig = plt.figure(figsize=(120,120))\n",
    "# sns.barplot(x='date',y='review_text_sentiment_score',data=action)\n",
    "# plt.xticks(rotation=50)\n",
    "# plt.tight_layout()"
   ]
  },
  {
   "cell_type": "code",
   "execution_count": 18,
   "metadata": {},
   "outputs": [],
   "source": [
    "# fig = plt.figure(figsize=(12,12))\n",
    "# sns.barplot(x='date',y='text_score',data=df)\n",
    "# plt.xticks(rotation=50)\n",
    "# plt.tight_layout()"
   ]
  },
  {
   "cell_type": "code",
   "execution_count": null,
   "metadata": {},
   "outputs": [],
   "source": [
    "# fig = plt.figure(figsize=(12,12))\n",
    "# sns.barplot(x='date',y='text_score',data=action)\n",
    "# plt.xticks(rotation=50)\n",
    "# plt.tight_layout()"
   ]
  },
  {
   "cell_type": "code",
   "execution_count": 19,
   "metadata": {},
   "outputs": [],
   "source": [
    "# fig = plt.figure(figsize=(12,12))\n",
    "# # plt.scatter('date','review_title_sentiment_score',data=action['date'].loc[])\n",
    "# sns.distplot(action['data'].loc['2020-01-01':'2020-12-31'],color='green',bins=100)\n",
    "# # sns.clustermap(data=action)\n",
    "# plt.xticks(rotation=50)"
   ]
  },
  {
   "cell_type": "code",
   "execution_count": 153,
   "metadata": {},
   "outputs": [
    {
     "data": {
      "text/html": [
       "<div>\n",
       "<style scoped>\n",
       "    .dataframe tbody tr th:only-of-type {\n",
       "        vertical-align: middle;\n",
       "    }\n",
       "\n",
       "    .dataframe tbody tr th {\n",
       "        vertical-align: top;\n",
       "    }\n",
       "\n",
       "    .dataframe thead th {\n",
       "        text-align: right;\n",
       "    }\n",
       "</style>\n",
       "<table border=\"1\" class=\"dataframe\">\n",
       "  <thead>\n",
       "    <tr style=\"text-align: right;\">\n",
       "      <th></th>\n",
       "      <th>title_score</th>\n",
       "      <th>text_score</th>\n",
       "      <th>rating</th>\n",
       "      <th>year</th>\n",
       "      <th>month</th>\n",
       "    </tr>\n",
       "  </thead>\n",
       "  <tbody>\n",
       "    <tr>\n",
       "      <th>title_score</th>\n",
       "      <td>1.000000</td>\n",
       "      <td>0.326019</td>\n",
       "      <td>0.412286</td>\n",
       "      <td>0.038142</td>\n",
       "      <td>-0.006232</td>\n",
       "    </tr>\n",
       "    <tr>\n",
       "      <th>text_score</th>\n",
       "      <td>0.326019</td>\n",
       "      <td>1.000000</td>\n",
       "      <td>0.441208</td>\n",
       "      <td>0.025683</td>\n",
       "      <td>-0.020261</td>\n",
       "    </tr>\n",
       "    <tr>\n",
       "      <th>rating</th>\n",
       "      <td>0.412286</td>\n",
       "      <td>0.441208</td>\n",
       "      <td>1.000000</td>\n",
       "      <td>0.026794</td>\n",
       "      <td>-0.006165</td>\n",
       "    </tr>\n",
       "    <tr>\n",
       "      <th>year</th>\n",
       "      <td>0.038142</td>\n",
       "      <td>0.025683</td>\n",
       "      <td>0.026794</td>\n",
       "      <td>1.000000</td>\n",
       "      <td>-0.080789</td>\n",
       "    </tr>\n",
       "    <tr>\n",
       "      <th>month</th>\n",
       "      <td>-0.006232</td>\n",
       "      <td>-0.020261</td>\n",
       "      <td>-0.006165</td>\n",
       "      <td>-0.080789</td>\n",
       "      <td>1.000000</td>\n",
       "    </tr>\n",
       "  </tbody>\n",
       "</table>\n",
       "</div>"
      ],
      "text/plain": [
       "             title_score  text_score    rating      year     month\n",
       "title_score     1.000000    0.326019  0.412286  0.038142 -0.006232\n",
       "text_score      0.326019    1.000000  0.441208  0.025683 -0.020261\n",
       "rating          0.412286    0.441208  1.000000  0.026794 -0.006165\n",
       "year            0.038142    0.025683  0.026794  1.000000 -0.080789\n",
       "month          -0.006232   -0.020261 -0.006165 -0.080789  1.000000"
      ]
     },
     "execution_count": 153,
     "metadata": {},
     "output_type": "execute_result"
    }
   ],
   "source": [
    "action.corr()"
   ]
  },
  {
   "cell_type": "code",
   "execution_count": 158,
   "metadata": {},
   "outputs": [
    {
     "ename": "NameError",
     "evalue": "name 'vix_on_gdp' is not defined",
     "output_type": "error",
     "traceback": [
      "\u001b[1;31m---------------------------------------------------------------------------\u001b[0m",
      "\u001b[1;31mNameError\u001b[0m                                 Traceback (most recent call last)",
      "\u001b[1;32m<ipython-input-158-3a259d4d2b84>\u001b[0m in \u001b[0;36m<module>\u001b[1;34m\u001b[0m\n\u001b[1;32m----> 1\u001b[1;33m \u001b[0mthriller\u001b[0m\u001b[1;33m[\u001b[0m\u001b[1;34m'text_score'\u001b[0m\u001b[1;33m]\u001b[0m\u001b[1;33m.\u001b[0m\u001b[0mcorr\u001b[0m\u001b[1;33m(\u001b[0m\u001b[0mthriller\u001b[0m\u001b[1;33m[\u001b[0m\u001b[1;34m'title_score'\u001b[0m\u001b[1;33m]\u001b[0m\u001b[1;33m)\u001b[0m\u001b[1;33m,\u001b[0m \u001b[0mvix_on_gdp\u001b[0m\u001b[1;33m.\u001b[0m\u001b[0mf_stat\u001b[0m\u001b[1;33m[\u001b[0m\u001b[1;34m'p-value'\u001b[0m\u001b[1;33m]\u001b[0m\u001b[1;33m\u001b[0m\u001b[1;33m\u001b[0m\u001b[0m\n\u001b[0m",
      "\u001b[1;31mNameError\u001b[0m: name 'vix_on_gdp' is not defined"
     ]
    }
   ],
   "source": []
  },
  {
   "cell_type": "code",
   "execution_count": 169,
   "metadata": {},
   "outputs": [
    {
     "data": {
      "text/plain": [
       "title_score    0.65434\n",
       "dtype: float64"
      ]
     },
     "execution_count": 169,
     "metadata": {},
     "output_type": "execute_result"
    }
   ],
   "source": [
    "y=action['text_score']\n",
    "x=action['title_score']\n",
    "text_title = sm.OLS(y,x, intercept=True)\n",
    "# vix_on_gdp = pd.ols(y=df['VIXCLS'], x=df['GDP'], intercept=True)\n",
    "results = text_title.fit()\n",
    "\n",
    "results.params"
   ]
  },
  {
   "cell_type": "code",
   "execution_count": 173,
   "metadata": {},
   "outputs": [
    {
     "name": "stdout",
     "output_type": "stream",
     "text": [
      "                             Test for Constraints                             \n",
      "==============================================================================\n",
      "                 coef    std err          t      P>|t|      [0.025      0.975]\n",
      "------------------------------------------------------------------------------\n",
      "c0             0.6543      0.012     53.396      0.000       0.630       0.678\n",
      "==============================================================================\n"
     ]
    }
   ],
   "source": [
    "print(results.t_test(1))"
   ]
  },
  {
   "cell_type": "code",
   "execution_count": 177,
   "metadata": {},
   "outputs": [
    {
     "data": {
      "text/plain": [
       "rating    0.047084\n",
       "dtype: float64"
      ]
     },
     "execution_count": 177,
     "metadata": {},
     "output_type": "execute_result"
    }
   ],
   "source": [
    "y1=action['text_score']\n",
    "x1=action['rating']\n",
    "text_rating = sm.OLS(y1,x1, intercept=True)\n",
    "# vix_on_gdp = pd.ols(y=df['VIXCLS'], x=df['GDP'], intercept=True)\n",
    "results1 =text_rating.fit()\n",
    "\n",
    "results1.params"
   ]
  },
  {
   "cell_type": "code",
   "execution_count": 178,
   "metadata": {},
   "outputs": [
    {
     "name": "stdout",
     "output_type": "stream",
     "text": [
      "                             Test for Constraints                             \n",
      "==============================================================================\n",
      "                 coef    std err          t      P>|t|      [0.025      0.975]\n",
      "------------------------------------------------------------------------------\n",
      "c0             0.0471      0.001     63.812      0.000       0.046       0.049\n",
      "==============================================================================\n"
     ]
    }
   ],
   "source": [
    "print(results1.t_test(1))"
   ]
  },
  {
   "cell_type": "code",
   "execution_count": null,
   "metadata": {},
   "outputs": [],
   "source": []
  }
 ],
 "metadata": {
  "kernelspec": {
   "display_name": "Python 3",
   "language": "python",
   "name": "python3"
  },
  "language_info": {
   "codemirror_mode": {
    "name": "ipython",
    "version": 3
   },
   "file_extension": ".py",
   "mimetype": "text/x-python",
   "name": "python",
   "nbconvert_exporter": "python",
   "pygments_lexer": "ipython3",
   "version": "3.8.5"
  }
 },
 "nbformat": 4,
 "nbformat_minor": 4
}
