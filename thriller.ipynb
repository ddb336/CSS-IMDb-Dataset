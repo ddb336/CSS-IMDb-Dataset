{
 "cells": [
  {
   "cell_type": "code",
   "execution_count": 163,
   "metadata": {},
   "outputs": [],
   "source": [
    "### Importing necessary libraries ###\n",
    "\n",
    "import pandas as pd\n",
    "import numpy as np\n",
    "import matplotlib.pyplot as plt\n",
    "import glob\n",
    "%matplotlib inline\n",
    "import seaborn as sns \n",
    "import scipy.stats  as stats\n",
    "import statsmodels.api as sm\n"
   ]
  },
  {
   "cell_type": "markdown",
   "metadata": {},
   "source": [
    "### Importing the reviews for all thriller movies from 2017-2021"
   ]
  },
  {
   "cell_type": "code",
   "execution_count": 40,
   "metadata": {},
   "outputs": [],
   "source": [
    "Thriller_url =\"https://raw.githubusercontent.com/ddb336/CSS-IMDb-Dataset/main/Data/genres-combined/Thriller_reviews_combined.csv\""
   ]
  },
  {
   "cell_type": "code",
   "execution_count": 41,
   "metadata": {},
   "outputs": [
    {
     "name": "stdout",
     "output_type": "stream",
     "text": [
      "<class 'pandas.core.frame.DataFrame'>\n",
      "RangeIndex: 20373 entries, 0 to 20372\n",
      "Data columns (total 6 columns):\n",
      " #   Column                        Non-Null Count  Dtype  \n",
      "---  ------                        --------------  -----  \n",
      " 0   title_id                      20373 non-null  object \n",
      " 1   review_title                  20373 non-null  object \n",
      " 2   review_title_sentiment_score  20373 non-null  float64\n",
      " 3   review_text_sentiment_score   20373 non-null  float64\n",
      " 4   date                          20373 non-null  object \n",
      " 5   rating                        20373 non-null  int64  \n",
      "dtypes: float64(2), int64(1), object(3)\n",
      "memory usage: 955.1+ KB\n"
     ]
    }
   ],
   "source": [
    "thriller = pd.read_csv(Thriller_url)\n",
    "\n",
    "thriller.info()"
   ]
  },
  {
   "cell_type": "code",
   "execution_count": 42,
   "metadata": {},
   "outputs": [
    {
     "data": {
      "text/html": [
       "<div>\n",
       "<style scoped>\n",
       "    .dataframe tbody tr th:only-of-type {\n",
       "        vertical-align: middle;\n",
       "    }\n",
       "\n",
       "    .dataframe tbody tr th {\n",
       "        vertical-align: top;\n",
       "    }\n",
       "\n",
       "    .dataframe thead th {\n",
       "        text-align: right;\n",
       "    }\n",
       "</style>\n",
       "<table border=\"1\" class=\"dataframe\">\n",
       "  <thead>\n",
       "    <tr style=\"text-align: right;\">\n",
       "      <th></th>\n",
       "      <th>title_id</th>\n",
       "      <th>review_title</th>\n",
       "      <th>review_title_sentiment_score</th>\n",
       "      <th>review_text_sentiment_score</th>\n",
       "      <th>date</th>\n",
       "      <th>rating</th>\n",
       "    </tr>\n",
       "  </thead>\n",
       "  <tbody>\n",
       "    <tr>\n",
       "      <th>0</th>\n",
       "      <td>tt2267998</td>\n",
       "      <td>Interesting end\\n</td>\n",
       "      <td>0.4019</td>\n",
       "      <td>0.9810</td>\n",
       "      <td>2021-03-28 00:00:00</td>\n",
       "      <td>9</td>\n",
       "    </tr>\n",
       "    <tr>\n",
       "      <th>1</th>\n",
       "      <td>tt2267998</td>\n",
       "      <td>A masterpiece\\n</td>\n",
       "      <td>0.6249</td>\n",
       "      <td>0.0000</td>\n",
       "      <td>2021-03-20 00:00:00</td>\n",
       "      <td>10</td>\n",
       "    </tr>\n",
       "    <tr>\n",
       "      <th>2</th>\n",
       "      <td>tt2267998</td>\n",
       "      <td>Ending sucked Unfortunately\\n</td>\n",
       "      <td>-0.6597</td>\n",
       "      <td>-0.9966</td>\n",
       "      <td>2021-03-19 00:00:00</td>\n",
       "      <td>6</td>\n",
       "    </tr>\n",
       "    <tr>\n",
       "      <th>3</th>\n",
       "      <td>tt2267998</td>\n",
       "      <td>impressive film that guides the audience\\n</td>\n",
       "      <td>0.5106</td>\n",
       "      <td>0.9258</td>\n",
       "      <td>2021-03-18 00:00:00</td>\n",
       "      <td>9</td>\n",
       "    </tr>\n",
       "    <tr>\n",
       "      <th>4</th>\n",
       "      <td>tt2267998</td>\n",
       "      <td>Great movie but I am pissed off\\n</td>\n",
       "      <td>-0.6428</td>\n",
       "      <td>-0.9159</td>\n",
       "      <td>2021-03-18 00:00:00</td>\n",
       "      <td>9</td>\n",
       "    </tr>\n",
       "  </tbody>\n",
       "</table>\n",
       "</div>"
      ],
      "text/plain": [
       "    title_id                                 review_title  \\\n",
       "0  tt2267998                            Interesting end\\n   \n",
       "1  tt2267998                              A masterpiece\\n   \n",
       "2  tt2267998                Ending sucked Unfortunately\\n   \n",
       "3  tt2267998   impressive film that guides the audience\\n   \n",
       "4  tt2267998            Great movie but I am pissed off\\n   \n",
       "\n",
       "   review_title_sentiment_score  review_text_sentiment_score  \\\n",
       "0                        0.4019                       0.9810   \n",
       "1                        0.6249                       0.0000   \n",
       "2                       -0.6597                      -0.9966   \n",
       "3                        0.5106                       0.9258   \n",
       "4                       -0.6428                      -0.9159   \n",
       "\n",
       "                  date  rating  \n",
       "0  2021-03-28 00:00:00       9  \n",
       "1  2021-03-20 00:00:00      10  \n",
       "2  2021-03-19 00:00:00       6  \n",
       "3  2021-03-18 00:00:00       9  \n",
       "4  2021-03-18 00:00:00       9  "
      ]
     },
     "execution_count": 42,
     "metadata": {},
     "output_type": "execute_result"
    }
   ],
   "source": [
    "thriller.head()"
   ]
  },
  {
   "cell_type": "markdown",
   "metadata": {},
   "source": [
    "### Data Filtering"
   ]
  },
  {
   "cell_type": "markdown",
   "metadata": {},
   "source": [
    "#### Fixing the 'date' column"
   ]
  },
  {
   "cell_type": "code",
   "execution_count": 43,
   "metadata": {
    "scrolled": true
   },
   "outputs": [
    {
     "data": {
      "text/plain": [
       "0        2021-03-28 00:00:00\n",
       "1        2021-03-20 00:00:00\n",
       "2        2021-03-19 00:00:00\n",
       "3        2021-03-18 00:00:00\n",
       "4        2021-03-18 00:00:00\n",
       "                ...         \n",
       "20368    2018-07-16 00:00:00\n",
       "20369    2018-05-13 00:00:00\n",
       "20370    2017-08-25 00:00:00\n",
       "20371    2017-04-02 00:00:00\n",
       "20372    2017-03-08 00:00:00\n",
       "Name: date, Length: 20373, dtype: object"
      ]
     },
     "execution_count": 43,
     "metadata": {},
     "output_type": "execute_result"
    }
   ],
   "source": [
    "## Chekcing the date column as it is an important independent variable in our research\n",
    "thriller['date']"
   ]
  },
  {
   "cell_type": "code",
   "execution_count": 44,
   "metadata": {},
   "outputs": [],
   "source": [
    "thriller['date'] = pd.to_datetime(thriller['date'])\n",
    "\n",
    "# thriller['date'] = pd.DatetimeIndex(thriller['date']).year\n",
    "# thriller['date'] = pd.to_datetime(thriller['date'],format='%m%Y', errors='coerce')\n",
    "\n"
   ]
  },
  {
   "cell_type": "code",
   "execution_count": 45,
   "metadata": {},
   "outputs": [
    {
     "data": {
      "text/html": [
       "<div>\n",
       "<style scoped>\n",
       "    .dataframe tbody tr th:only-of-type {\n",
       "        vertical-align: middle;\n",
       "    }\n",
       "\n",
       "    .dataframe tbody tr th {\n",
       "        vertical-align: top;\n",
       "    }\n",
       "\n",
       "    .dataframe thead th {\n",
       "        text-align: right;\n",
       "    }\n",
       "</style>\n",
       "<table border=\"1\" class=\"dataframe\">\n",
       "  <thead>\n",
       "    <tr style=\"text-align: right;\">\n",
       "      <th></th>\n",
       "      <th>title_id</th>\n",
       "      <th>review_title</th>\n",
       "      <th>review_title_sentiment_score</th>\n",
       "      <th>review_text_sentiment_score</th>\n",
       "      <th>date</th>\n",
       "      <th>rating</th>\n",
       "    </tr>\n",
       "  </thead>\n",
       "  <tbody>\n",
       "    <tr>\n",
       "      <th>0</th>\n",
       "      <td>tt2267998</td>\n",
       "      <td>Interesting end\\n</td>\n",
       "      <td>0.4019</td>\n",
       "      <td>0.9810</td>\n",
       "      <td>2021-03-28</td>\n",
       "      <td>9</td>\n",
       "    </tr>\n",
       "    <tr>\n",
       "      <th>1</th>\n",
       "      <td>tt2267998</td>\n",
       "      <td>A masterpiece\\n</td>\n",
       "      <td>0.6249</td>\n",
       "      <td>0.0000</td>\n",
       "      <td>2021-03-20</td>\n",
       "      <td>10</td>\n",
       "    </tr>\n",
       "    <tr>\n",
       "      <th>2</th>\n",
       "      <td>tt2267998</td>\n",
       "      <td>Ending sucked Unfortunately\\n</td>\n",
       "      <td>-0.6597</td>\n",
       "      <td>-0.9966</td>\n",
       "      <td>2021-03-19</td>\n",
       "      <td>6</td>\n",
       "    </tr>\n",
       "    <tr>\n",
       "      <th>3</th>\n",
       "      <td>tt2267998</td>\n",
       "      <td>impressive film that guides the audience\\n</td>\n",
       "      <td>0.5106</td>\n",
       "      <td>0.9258</td>\n",
       "      <td>2021-03-18</td>\n",
       "      <td>9</td>\n",
       "    </tr>\n",
       "    <tr>\n",
       "      <th>4</th>\n",
       "      <td>tt2267998</td>\n",
       "      <td>Great movie but I am pissed off\\n</td>\n",
       "      <td>-0.6428</td>\n",
       "      <td>-0.9159</td>\n",
       "      <td>2021-03-18</td>\n",
       "      <td>9</td>\n",
       "    </tr>\n",
       "  </tbody>\n",
       "</table>\n",
       "</div>"
      ],
      "text/plain": [
       "    title_id                                 review_title  \\\n",
       "0  tt2267998                            Interesting end\\n   \n",
       "1  tt2267998                              A masterpiece\\n   \n",
       "2  tt2267998                Ending sucked Unfortunately\\n   \n",
       "3  tt2267998   impressive film that guides the audience\\n   \n",
       "4  tt2267998            Great movie but I am pissed off\\n   \n",
       "\n",
       "   review_title_sentiment_score  review_text_sentiment_score       date  \\\n",
       "0                        0.4019                       0.9810 2021-03-28   \n",
       "1                        0.6249                       0.0000 2021-03-20   \n",
       "2                       -0.6597                      -0.9966 2021-03-19   \n",
       "3                        0.5106                       0.9258 2021-03-18   \n",
       "4                       -0.6428                      -0.9159 2021-03-18   \n",
       "\n",
       "   rating  \n",
       "0       9  \n",
       "1      10  \n",
       "2       6  \n",
       "3       9  \n",
       "4       9  "
      ]
     },
     "execution_count": 45,
     "metadata": {},
     "output_type": "execute_result"
    }
   ],
   "source": [
    "thriller.head()"
   ]
  },
  {
   "cell_type": "code",
   "execution_count": 46,
   "metadata": {},
   "outputs": [
    {
     "data": {
      "text/plain": [
       "title_id                                object\n",
       "review_title                            object\n",
       "review_title_sentiment_score           float64\n",
       "review_text_sentiment_score            float64\n",
       "date                            datetime64[ns]\n",
       "rating                                   int64\n",
       "dtype: object"
      ]
     },
     "execution_count": 46,
     "metadata": {},
     "output_type": "execute_result"
    }
   ],
   "source": [
    "thriller.dtypes"
   ]
  },
  {
   "cell_type": "markdown",
   "metadata": {},
   "source": [
    "#### Fixing the sentiment analysis columns"
   ]
  },
  {
   "cell_type": "code",
   "execution_count": 47,
   "metadata": {},
   "outputs": [],
   "source": [
    "thriller.rename(columns={'review_title_sentiment_score': 'title_score', 'review_text_sentiment_score': 'text_score'},inplace=True)"
   ]
  },
  {
   "cell_type": "code",
   "execution_count": 88,
   "metadata": {},
   "outputs": [
    {
     "data": {
      "text/html": [
       "<div>\n",
       "<style scoped>\n",
       "    .dataframe tbody tr th:only-of-type {\n",
       "        vertical-align: middle;\n",
       "    }\n",
       "\n",
       "    .dataframe tbody tr th {\n",
       "        vertical-align: top;\n",
       "    }\n",
       "\n",
       "    .dataframe thead th {\n",
       "        text-align: right;\n",
       "    }\n",
       "</style>\n",
       "<table border=\"1\" class=\"dataframe\">\n",
       "  <thead>\n",
       "    <tr style=\"text-align: right;\">\n",
       "      <th></th>\n",
       "      <th>title_id</th>\n",
       "      <th>review_title</th>\n",
       "      <th>title_score</th>\n",
       "      <th>text_score</th>\n",
       "      <th>date</th>\n",
       "      <th>rating</th>\n",
       "    </tr>\n",
       "  </thead>\n",
       "  <tbody>\n",
       "    <tr>\n",
       "      <th>0</th>\n",
       "      <td>tt2267998</td>\n",
       "      <td>Interesting end\\n</td>\n",
       "      <td>0.4019</td>\n",
       "      <td>0.9810</td>\n",
       "      <td>2021-03-28</td>\n",
       "      <td>9</td>\n",
       "    </tr>\n",
       "    <tr>\n",
       "      <th>1</th>\n",
       "      <td>tt2267998</td>\n",
       "      <td>A masterpiece\\n</td>\n",
       "      <td>0.6249</td>\n",
       "      <td>0.0000</td>\n",
       "      <td>2021-03-20</td>\n",
       "      <td>10</td>\n",
       "    </tr>\n",
       "    <tr>\n",
       "      <th>2</th>\n",
       "      <td>tt2267998</td>\n",
       "      <td>Ending sucked Unfortunately\\n</td>\n",
       "      <td>-0.6597</td>\n",
       "      <td>-0.9966</td>\n",
       "      <td>2021-03-19</td>\n",
       "      <td>6</td>\n",
       "    </tr>\n",
       "    <tr>\n",
       "      <th>3</th>\n",
       "      <td>tt2267998</td>\n",
       "      <td>impressive film that guides the audience\\n</td>\n",
       "      <td>0.5106</td>\n",
       "      <td>0.9258</td>\n",
       "      <td>2021-03-18</td>\n",
       "      <td>9</td>\n",
       "    </tr>\n",
       "    <tr>\n",
       "      <th>4</th>\n",
       "      <td>tt2267998</td>\n",
       "      <td>Great movie but I am pissed off\\n</td>\n",
       "      <td>-0.6428</td>\n",
       "      <td>-0.9159</td>\n",
       "      <td>2021-03-18</td>\n",
       "      <td>9</td>\n",
       "    </tr>\n",
       "  </tbody>\n",
       "</table>\n",
       "</div>"
      ],
      "text/plain": [
       "    title_id                                 review_title  title_score  \\\n",
       "0  tt2267998                            Interesting end\\n       0.4019   \n",
       "1  tt2267998                              A masterpiece\\n       0.6249   \n",
       "2  tt2267998                Ending sucked Unfortunately\\n      -0.6597   \n",
       "3  tt2267998   impressive film that guides the audience\\n       0.5106   \n",
       "4  tt2267998            Great movie but I am pissed off\\n      -0.6428   \n",
       "\n",
       "   text_score       date  rating  \n",
       "0      0.9810 2021-03-28       9  \n",
       "1      0.0000 2021-03-20      10  \n",
       "2     -0.9966 2021-03-19       6  \n",
       "3      0.9258 2021-03-18       9  \n",
       "4     -0.9159 2021-03-18       9  "
      ]
     },
     "execution_count": 88,
     "metadata": {},
     "output_type": "execute_result"
    }
   ],
   "source": [
    "thriller.head()"
   ]
  },
  {
   "cell_type": "code",
   "execution_count": 49,
   "metadata": {},
   "outputs": [
    {
     "data": {
      "text/plain": [
       "title_id                object\n",
       "review_title            object\n",
       "title_score            float64\n",
       "text_score             float64\n",
       "date            datetime64[ns]\n",
       "rating                   int64\n",
       "dtype: object"
      ]
     },
     "execution_count": 49,
     "metadata": {},
     "output_type": "execute_result"
    }
   ],
   "source": [
    "thriller.dtypes"
   ]
  },
  {
   "cell_type": "code",
   "execution_count": 211,
   "metadata": {},
   "outputs": [
    {
     "data": {
      "text/html": [
       "<div>\n",
       "<style scoped>\n",
       "    .dataframe tbody tr th:only-of-type {\n",
       "        vertical-align: middle;\n",
       "    }\n",
       "\n",
       "    .dataframe tbody tr th {\n",
       "        vertical-align: top;\n",
       "    }\n",
       "\n",
       "    .dataframe thead th {\n",
       "        text-align: right;\n",
       "    }\n",
       "</style>\n",
       "<table border=\"1\" class=\"dataframe\">\n",
       "  <thead>\n",
       "    <tr style=\"text-align: right;\">\n",
       "      <th></th>\n",
       "      <th>title_id</th>\n",
       "      <th>review_title</th>\n",
       "      <th>title_score</th>\n",
       "      <th>text_score</th>\n",
       "      <th>date</th>\n",
       "      <th>rating</th>\n",
       "      <th>year</th>\n",
       "      <th>month</th>\n",
       "    </tr>\n",
       "  </thead>\n",
       "  <tbody>\n",
       "    <tr>\n",
       "      <th>0</th>\n",
       "      <td>tt2267998</td>\n",
       "      <td>Interesting end\\n</td>\n",
       "      <td>0.4019</td>\n",
       "      <td>0.9810</td>\n",
       "      <td>2021-03-28</td>\n",
       "      <td>9</td>\n",
       "      <td>2021</td>\n",
       "      <td>3</td>\n",
       "    </tr>\n",
       "    <tr>\n",
       "      <th>1</th>\n",
       "      <td>tt2267998</td>\n",
       "      <td>A masterpiece\\n</td>\n",
       "      <td>0.6249</td>\n",
       "      <td>0.0000</td>\n",
       "      <td>2021-03-20</td>\n",
       "      <td>10</td>\n",
       "      <td>2021</td>\n",
       "      <td>3</td>\n",
       "    </tr>\n",
       "    <tr>\n",
       "      <th>2</th>\n",
       "      <td>tt2267998</td>\n",
       "      <td>Ending sucked Unfortunately\\n</td>\n",
       "      <td>-0.6597</td>\n",
       "      <td>-0.9966</td>\n",
       "      <td>2021-03-19</td>\n",
       "      <td>6</td>\n",
       "      <td>2021</td>\n",
       "      <td>3</td>\n",
       "    </tr>\n",
       "    <tr>\n",
       "      <th>3</th>\n",
       "      <td>tt2267998</td>\n",
       "      <td>impressive film that guides the audience\\n</td>\n",
       "      <td>0.5106</td>\n",
       "      <td>0.9258</td>\n",
       "      <td>2021-03-18</td>\n",
       "      <td>9</td>\n",
       "      <td>2021</td>\n",
       "      <td>3</td>\n",
       "    </tr>\n",
       "    <tr>\n",
       "      <th>4</th>\n",
       "      <td>tt2267998</td>\n",
       "      <td>Great movie but I am pissed off\\n</td>\n",
       "      <td>-0.6428</td>\n",
       "      <td>-0.9159</td>\n",
       "      <td>2021-03-18</td>\n",
       "      <td>9</td>\n",
       "      <td>2021</td>\n",
       "      <td>3</td>\n",
       "    </tr>\n",
       "    <tr>\n",
       "      <th>...</th>\n",
       "      <td>...</td>\n",
       "      <td>...</td>\n",
       "      <td>...</td>\n",
       "      <td>...</td>\n",
       "      <td>...</td>\n",
       "      <td>...</td>\n",
       "      <td>...</td>\n",
       "      <td>...</td>\n",
       "    </tr>\n",
       "    <tr>\n",
       "      <th>20368</th>\n",
       "      <td>tt3862750</td>\n",
       "      <td>TOO GOOD TO BE TRUE\\n</td>\n",
       "      <td>0.6908</td>\n",
       "      <td>0.0036</td>\n",
       "      <td>2018-07-16</td>\n",
       "      <td>6</td>\n",
       "      <td>2018</td>\n",
       "      <td>7</td>\n",
       "    </tr>\n",
       "    <tr>\n",
       "      <th>20369</th>\n",
       "      <td>tt3862750</td>\n",
       "      <td>Great thriller\\n</td>\n",
       "      <td>0.6705</td>\n",
       "      <td>0.6249</td>\n",
       "      <td>2018-05-13</td>\n",
       "      <td>9</td>\n",
       "      <td>2018</td>\n",
       "      <td>5</td>\n",
       "    </tr>\n",
       "    <tr>\n",
       "      <th>20370</th>\n",
       "      <td>tt3862750</td>\n",
       "      <td>Not bad, not good, just meh....\\n</td>\n",
       "      <td>0.5981</td>\n",
       "      <td>0.8568</td>\n",
       "      <td>2017-08-25</td>\n",
       "      <td>5</td>\n",
       "      <td>2017</td>\n",
       "      <td>8</td>\n",
       "    </tr>\n",
       "    <tr>\n",
       "      <th>20371</th>\n",
       "      <td>tt3862750</td>\n",
       "      <td>The Imperfect Guise\\n</td>\n",
       "      <td>-0.3182</td>\n",
       "      <td>0.9873</td>\n",
       "      <td>2017-04-02</td>\n",
       "      <td>6</td>\n",
       "      <td>2017</td>\n",
       "      <td>4</td>\n",
       "    </tr>\n",
       "    <tr>\n",
       "      <th>20372</th>\n",
       "      <td>tt3862750</td>\n",
       "      <td>Pretty good movie\\n</td>\n",
       "      <td>0.7269</td>\n",
       "      <td>0.9905</td>\n",
       "      <td>2017-03-08</td>\n",
       "      <td>8</td>\n",
       "      <td>2017</td>\n",
       "      <td>3</td>\n",
       "    </tr>\n",
       "  </tbody>\n",
       "</table>\n",
       "<p>20373 rows × 8 columns</p>\n",
       "</div>"
      ],
      "text/plain": [
       "        title_id                                 review_title  title_score  \\\n",
       "0      tt2267998                            Interesting end\\n       0.4019   \n",
       "1      tt2267998                              A masterpiece\\n       0.6249   \n",
       "2      tt2267998                Ending sucked Unfortunately\\n      -0.6597   \n",
       "3      tt2267998   impressive film that guides the audience\\n       0.5106   \n",
       "4      tt2267998            Great movie but I am pissed off\\n      -0.6428   \n",
       "...          ...                                          ...          ...   \n",
       "20368  tt3862750                        TOO GOOD TO BE TRUE\\n       0.6908   \n",
       "20369  tt3862750                             Great thriller\\n       0.6705   \n",
       "20370  tt3862750            Not bad, not good, just meh....\\n       0.5981   \n",
       "20371  tt3862750                        The Imperfect Guise\\n      -0.3182   \n",
       "20372  tt3862750                          Pretty good movie\\n       0.7269   \n",
       "\n",
       "       text_score       date  rating  year  month  \n",
       "0          0.9810 2021-03-28       9  2021      3  \n",
       "1          0.0000 2021-03-20      10  2021      3  \n",
       "2         -0.9966 2021-03-19       6  2021      3  \n",
       "3          0.9258 2021-03-18       9  2021      3  \n",
       "4         -0.9159 2021-03-18       9  2021      3  \n",
       "...           ...        ...     ...   ...    ...  \n",
       "20368      0.0036 2018-07-16       6  2018      7  \n",
       "20369      0.6249 2018-05-13       9  2018      5  \n",
       "20370      0.8568 2017-08-25       5  2017      8  \n",
       "20371      0.9873 2017-04-02       6  2017      4  \n",
       "20372      0.9905 2017-03-08       8  2017      3  \n",
       "\n",
       "[20373 rows x 8 columns]"
      ]
     },
     "execution_count": 211,
     "metadata": {},
     "output_type": "execute_result"
    }
   ],
   "source": [
    "thriller"
   ]
  },
  {
   "cell_type": "code",
   "execution_count": 335,
   "metadata": {},
   "outputs": [],
   "source": [
    "# thriller['date'] = thriller['date'].values.astype(float)"
   ]
  },
  {
   "cell_type": "code",
   "execution_count": 337,
   "metadata": {},
   "outputs": [],
   "source": [
    "# df = thriller[(thriller['date'] > '2020-3-1') & (thriller['date'] <= '2020-3-31')]\n"
   ]
  },
  {
   "cell_type": "code",
   "execution_count": 338,
   "metadata": {},
   "outputs": [
    {
     "data": {
      "text/html": [
       "<div>\n",
       "<style scoped>\n",
       "    .dataframe tbody tr th:only-of-type {\n",
       "        vertical-align: middle;\n",
       "    }\n",
       "\n",
       "    .dataframe tbody tr th {\n",
       "        vertical-align: top;\n",
       "    }\n",
       "\n",
       "    .dataframe thead th {\n",
       "        text-align: right;\n",
       "    }\n",
       "</style>\n",
       "<table border=\"1\" class=\"dataframe\">\n",
       "  <thead>\n",
       "    <tr style=\"text-align: right;\">\n",
       "      <th></th>\n",
       "      <th>title_id</th>\n",
       "      <th>review_title</th>\n",
       "      <th>review_title_sentiment_score</th>\n",
       "      <th>review_text_sentiment_score</th>\n",
       "      <th>date</th>\n",
       "      <th>rating</th>\n",
       "    </tr>\n",
       "  </thead>\n",
       "  <tbody>\n",
       "    <tr>\n",
       "      <th>175</th>\n",
       "      <td>tt2267998</td>\n",
       "      <td>gone girl\\n</td>\n",
       "      <td>0.0000</td>\n",
       "      <td>0.2263</td>\n",
       "      <td>2020-03-31</td>\n",
       "      <td>9</td>\n",
       "    </tr>\n",
       "    <tr>\n",
       "      <th>176</th>\n",
       "      <td>tt2267998</td>\n",
       "      <td>Hot\\n</td>\n",
       "      <td>0.0000</td>\n",
       "      <td>0.3612</td>\n",
       "      <td>2020-03-31</td>\n",
       "      <td>10</td>\n",
       "    </tr>\n",
       "    <tr>\n",
       "      <th>177</th>\n",
       "      <td>tt2267998</td>\n",
       "      <td>Watching this movie made me feel sick\\n</td>\n",
       "      <td>-0.5106</td>\n",
       "      <td>-0.7100</td>\n",
       "      <td>2020-03-30</td>\n",
       "      <td>2</td>\n",
       "    </tr>\n",
       "    <tr>\n",
       "      <th>178</th>\n",
       "      <td>tt2267998</td>\n",
       "      <td>Thought-provoking\\n</td>\n",
       "      <td>0.0000</td>\n",
       "      <td>0.9937</td>\n",
       "      <td>2020-03-30</td>\n",
       "      <td>8</td>\n",
       "    </tr>\n",
       "    <tr>\n",
       "      <th>179</th>\n",
       "      <td>tt2267998</td>\n",
       "      <td>Fair but not fair enough\\n</td>\n",
       "      <td>-0.2006</td>\n",
       "      <td>0.6808</td>\n",
       "      <td>2020-03-28</td>\n",
       "      <td>8</td>\n",
       "    </tr>\n",
       "    <tr>\n",
       "      <th>...</th>\n",
       "      <td>...</td>\n",
       "      <td>...</td>\n",
       "      <td>...</td>\n",
       "      <td>...</td>\n",
       "      <td>...</td>\n",
       "      <td>...</td>\n",
       "    </tr>\n",
       "    <tr>\n",
       "      <th>20126</th>\n",
       "      <td>tt2180994</td>\n",
       "      <td>Entertaining\\n</td>\n",
       "      <td>0.4404</td>\n",
       "      <td>0.9633</td>\n",
       "      <td>2020-03-02</td>\n",
       "      <td>8</td>\n",
       "    </tr>\n",
       "    <tr>\n",
       "      <th>20127</th>\n",
       "      <td>tt2180994</td>\n",
       "      <td>A Good Marriage = A Bad Movie\\n</td>\n",
       "      <td>-0.1531</td>\n",
       "      <td>0.7935</td>\n",
       "      <td>2020-03-02</td>\n",
       "      <td>3</td>\n",
       "    </tr>\n",
       "    <tr>\n",
       "      <th>20160</th>\n",
       "      <td>tt3896738</td>\n",
       "      <td>Australian gem about a sexual-predator serial...</td>\n",
       "      <td>-0.6486</td>\n",
       "      <td>-0.9531</td>\n",
       "      <td>2020-03-09</td>\n",
       "      <td>7</td>\n",
       "    </tr>\n",
       "    <tr>\n",
       "      <th>20238</th>\n",
       "      <td>tt4382872</td>\n",
       "      <td>Great Fight Scenes\\n</td>\n",
       "      <td>0.3612</td>\n",
       "      <td>0.5994</td>\n",
       "      <td>2020-03-18</td>\n",
       "      <td>9</td>\n",
       "    </tr>\n",
       "    <tr>\n",
       "      <th>20350</th>\n",
       "      <td>tt2952602</td>\n",
       "      <td>A very good movie.. prob one of the better on...</td>\n",
       "      <td>0.7264</td>\n",
       "      <td>0.9640</td>\n",
       "      <td>2020-03-06</td>\n",
       "      <td>9</td>\n",
       "    </tr>\n",
       "  </tbody>\n",
       "</table>\n",
       "<p>430 rows × 6 columns</p>\n",
       "</div>"
      ],
      "text/plain": [
       "        title_id                                       review_title  \\\n",
       "175    tt2267998                                        gone girl\\n   \n",
       "176    tt2267998                                              Hot\\n   \n",
       "177    tt2267998            Watching this movie made me feel sick\\n   \n",
       "178    tt2267998                                Thought-provoking\\n   \n",
       "179    tt2267998                         Fair but not fair enough\\n   \n",
       "...          ...                                                ...   \n",
       "20126  tt2180994                                     Entertaining\\n   \n",
       "20127  tt2180994                    A Good Marriage = A Bad Movie\\n   \n",
       "20160  tt3896738   Australian gem about a sexual-predator serial...   \n",
       "20238  tt4382872                               Great Fight Scenes\\n   \n",
       "20350  tt2952602   A very good movie.. prob one of the better on...   \n",
       "\n",
       "       review_title_sentiment_score  review_text_sentiment_score       date  \\\n",
       "175                          0.0000                       0.2263 2020-03-31   \n",
       "176                          0.0000                       0.3612 2020-03-31   \n",
       "177                         -0.5106                      -0.7100 2020-03-30   \n",
       "178                          0.0000                       0.9937 2020-03-30   \n",
       "179                         -0.2006                       0.6808 2020-03-28   \n",
       "...                             ...                          ...        ...   \n",
       "20126                        0.4404                       0.9633 2020-03-02   \n",
       "20127                       -0.1531                       0.7935 2020-03-02   \n",
       "20160                       -0.6486                      -0.9531 2020-03-09   \n",
       "20238                        0.3612                       0.5994 2020-03-18   \n",
       "20350                        0.7264                       0.9640 2020-03-06   \n",
       "\n",
       "       rating  \n",
       "175         9  \n",
       "176        10  \n",
       "177         2  \n",
       "178         8  \n",
       "179         8  \n",
       "...       ...  \n",
       "20126       8  \n",
       "20127       3  \n",
       "20160       7  \n",
       "20238       9  \n",
       "20350       9  \n",
       "\n",
       "[430 rows x 6 columns]"
      ]
     },
     "execution_count": 338,
     "metadata": {},
     "output_type": "execute_result"
    }
   ],
   "source": [
    "# df"
   ]
  },
  {
   "cell_type": "code",
   "execution_count": 181,
   "metadata": {},
   "outputs": [
    {
     "data": {
      "text/plain": [
       "title_id                object\n",
       "review_title            object\n",
       "title_score            float64\n",
       "text_score             float64\n",
       "date            datetime64[ns]\n",
       "rating                   int64\n",
       "year                     int64\n",
       "month                    int64\n",
       "dtype: object"
      ]
     },
     "execution_count": 181,
     "metadata": {},
     "output_type": "execute_result"
    }
   ],
   "source": [
    "thriller.dtypes"
   ]
  },
  {
   "cell_type": "markdown",
   "metadata": {},
   "source": [
    "### Getting data on monthly and yearly basis"
   ]
  },
  {
   "cell_type": "code",
   "execution_count": 239,
   "metadata": {},
   "outputs": [
    {
     "data": {
      "text/plain": [
       "<AxesSubplot:xlabel='year,month'>"
      ]
     },
     "execution_count": 239,
     "metadata": {},
     "output_type": "execute_result"
    },
    {
     "data": {
      "image/png": "[encoded data removed]",
      "text/plain": [
       "<Figure size 432x288 with 1 Axes>"
      ]
     },
     "metadata": {
      "needs_background": "light"
     },
     "output_type": "display_data"
    }
   ],
   "source": [
    "count = thriller.groupby(['year','month']).count()\n",
    "count.plot(y='title_score')"
   ]
  },
  {
   "cell_type": "code",
   "execution_count": 234,
   "metadata": {},
   "outputs": [
    {
     "data": {
      "text/plain": [
       "<AxesSubplot:xlabel='month'>"
      ]
     },
     "execution_count": 234,
     "metadata": {},
     "output_type": "execute_result"
    },
    {
     "data": {
      "image/png": "[encoded data removed]",
      "text/plain": [
       "<Figure size 432x288 with 1 Axes>"
      ]
     },
     "metadata": {
      "needs_background": "light"
     },
     "output_type": "display_data"
    }
   ],
   "source": [
    "count.xs(key=2020,axis=0,level='year').plot(y='title_score')"
   ]
  },
  {
   "cell_type": "code",
   "execution_count": 224,
   "metadata": {},
   "outputs": [],
   "source": [
    "thriller['year']=thriller['date'].dt.year\n",
    "thriller['month']=thriller['date'].dt.month\n",
    "t = thriller.groupby(['year','month']).mean()"
   ]
  },
  {
   "cell_type": "code",
   "execution_count": 186,
   "metadata": {
    "scrolled": true
   },
   "outputs": [],
   "source": [
    "thriller['year']=thriller['date'].dt.year\n",
    "thriller['month']=thriller['date'].dt.month\n",
    "m = thriller.groupby(['year','month']).std()"
   ]
  },
  {
   "cell_type": "code",
   "execution_count": null,
   "metadata": {},
   "outputs": [],
   "source": []
  },
  {
   "cell_type": "code",
   "execution_count": 202,
   "metadata": {},
   "outputs": [
    {
     "data": {
      "text/plain": [
       "<AxesSubplot:xlabel='month'>"
      ]
     },
     "execution_count": 202,
     "metadata": {},
     "output_type": "execute_result"
    },
    {
     "data": {
      "image/png": "[encoded data removed]",
      "text/plain": [
       "<Figure size 432x288 with 1 Axes>"
      ]
     },
     "metadata": {
      "needs_background": "light"
     },
     "output_type": "display_data"
    },
    {
     "data": {
      "image/png": "[encoded data removed]",
      "text/plain": [
       "<Figure size 432x288 with 1 Axes>"
      ]
     },
     "metadata": {
      "needs_background": "light"
     },
     "output_type": "display_data"
    }
   ],
   "source": [
    "t.xs(key=2020,axis=0,level='year').plot(y='title_score')\n",
    "m.xs(key=2020,axis=0,level='year').plot(y='title_score')"
   ]
  },
  {
   "cell_type": "code",
   "execution_count": null,
   "metadata": {},
   "outputs": [],
   "source": []
  },
  {
   "cell_type": "markdown",
   "metadata": {},
   "source": [
    "## Visualizations"
   ]
  },
  {
   "cell_type": "code",
   "execution_count": 204,
   "metadata": {},
   "outputs": [
    {
     "data": {
      "text/html": [
       "<div>\n",
       "<style scoped>\n",
       "    .dataframe tbody tr th:only-of-type {\n",
       "        vertical-align: middle;\n",
       "    }\n",
       "\n",
       "    .dataframe tbody tr th {\n",
       "        vertical-align: top;\n",
       "    }\n",
       "\n",
       "    .dataframe thead th {\n",
       "        text-align: right;\n",
       "    }\n",
       "</style>\n",
       "<table border=\"1\" class=\"dataframe\">\n",
       "  <thead>\n",
       "    <tr style=\"text-align: right;\">\n",
       "      <th></th>\n",
       "      <th>title_id</th>\n",
       "      <th>review_title</th>\n",
       "      <th>title_score</th>\n",
       "      <th>text_score</th>\n",
       "      <th>date</th>\n",
       "      <th>rating</th>\n",
       "      <th>year</th>\n",
       "      <th>month</th>\n",
       "    </tr>\n",
       "  </thead>\n",
       "  <tbody>\n",
       "    <tr>\n",
       "      <th>0</th>\n",
       "      <td>tt2267998</td>\n",
       "      <td>Interesting end\\n</td>\n",
       "      <td>0.4019</td>\n",
       "      <td>0.9810</td>\n",
       "      <td>2021-03-28</td>\n",
       "      <td>9</td>\n",
       "      <td>2021</td>\n",
       "      <td>3</td>\n",
       "    </tr>\n",
       "    <tr>\n",
       "      <th>1</th>\n",
       "      <td>tt2267998</td>\n",
       "      <td>A masterpiece\\n</td>\n",
       "      <td>0.6249</td>\n",
       "      <td>0.0000</td>\n",
       "      <td>2021-03-20</td>\n",
       "      <td>10</td>\n",
       "      <td>2021</td>\n",
       "      <td>3</td>\n",
       "    </tr>\n",
       "    <tr>\n",
       "      <th>2</th>\n",
       "      <td>tt2267998</td>\n",
       "      <td>Ending sucked Unfortunately\\n</td>\n",
       "      <td>-0.6597</td>\n",
       "      <td>-0.9966</td>\n",
       "      <td>2021-03-19</td>\n",
       "      <td>6</td>\n",
       "      <td>2021</td>\n",
       "      <td>3</td>\n",
       "    </tr>\n",
       "    <tr>\n",
       "      <th>3</th>\n",
       "      <td>tt2267998</td>\n",
       "      <td>impressive film that guides the audience\\n</td>\n",
       "      <td>0.5106</td>\n",
       "      <td>0.9258</td>\n",
       "      <td>2021-03-18</td>\n",
       "      <td>9</td>\n",
       "      <td>2021</td>\n",
       "      <td>3</td>\n",
       "    </tr>\n",
       "    <tr>\n",
       "      <th>4</th>\n",
       "      <td>tt2267998</td>\n",
       "      <td>Great movie but I am pissed off\\n</td>\n",
       "      <td>-0.6428</td>\n",
       "      <td>-0.9159</td>\n",
       "      <td>2021-03-18</td>\n",
       "      <td>9</td>\n",
       "      <td>2021</td>\n",
       "      <td>3</td>\n",
       "    </tr>\n",
       "    <tr>\n",
       "      <th>...</th>\n",
       "      <td>...</td>\n",
       "      <td>...</td>\n",
       "      <td>...</td>\n",
       "      <td>...</td>\n",
       "      <td>...</td>\n",
       "      <td>...</td>\n",
       "      <td>...</td>\n",
       "      <td>...</td>\n",
       "    </tr>\n",
       "    <tr>\n",
       "      <th>20368</th>\n",
       "      <td>tt3862750</td>\n",
       "      <td>TOO GOOD TO BE TRUE\\n</td>\n",
       "      <td>0.6908</td>\n",
       "      <td>0.0036</td>\n",
       "      <td>2018-07-16</td>\n",
       "      <td>6</td>\n",
       "      <td>2018</td>\n",
       "      <td>7</td>\n",
       "    </tr>\n",
       "    <tr>\n",
       "      <th>20369</th>\n",
       "      <td>tt3862750</td>\n",
       "      <td>Great thriller\\n</td>\n",
       "      <td>0.6705</td>\n",
       "      <td>0.6249</td>\n",
       "      <td>2018-05-13</td>\n",
       "      <td>9</td>\n",
       "      <td>2018</td>\n",
       "      <td>5</td>\n",
       "    </tr>\n",
       "    <tr>\n",
       "      <th>20370</th>\n",
       "      <td>tt3862750</td>\n",
       "      <td>Not bad, not good, just meh....\\n</td>\n",
       "      <td>0.5981</td>\n",
       "      <td>0.8568</td>\n",
       "      <td>2017-08-25</td>\n",
       "      <td>5</td>\n",
       "      <td>2017</td>\n",
       "      <td>8</td>\n",
       "    </tr>\n",
       "    <tr>\n",
       "      <th>20371</th>\n",
       "      <td>tt3862750</td>\n",
       "      <td>The Imperfect Guise\\n</td>\n",
       "      <td>-0.3182</td>\n",
       "      <td>0.9873</td>\n",
       "      <td>2017-04-02</td>\n",
       "      <td>6</td>\n",
       "      <td>2017</td>\n",
       "      <td>4</td>\n",
       "    </tr>\n",
       "    <tr>\n",
       "      <th>20372</th>\n",
       "      <td>tt3862750</td>\n",
       "      <td>Pretty good movie\\n</td>\n",
       "      <td>0.7269</td>\n",
       "      <td>0.9905</td>\n",
       "      <td>2017-03-08</td>\n",
       "      <td>8</td>\n",
       "      <td>2017</td>\n",
       "      <td>3</td>\n",
       "    </tr>\n",
       "  </tbody>\n",
       "</table>\n",
       "<p>20373 rows × 8 columns</p>\n",
       "</div>"
      ],
      "text/plain": [
       "        title_id                                 review_title  title_score  \\\n",
       "0      tt2267998                            Interesting end\\n       0.4019   \n",
       "1      tt2267998                              A masterpiece\\n       0.6249   \n",
       "2      tt2267998                Ending sucked Unfortunately\\n      -0.6597   \n",
       "3      tt2267998   impressive film that guides the audience\\n       0.5106   \n",
       "4      tt2267998            Great movie but I am pissed off\\n      -0.6428   \n",
       "...          ...                                          ...          ...   \n",
       "20368  tt3862750                        TOO GOOD TO BE TRUE\\n       0.6908   \n",
       "20369  tt3862750                             Great thriller\\n       0.6705   \n",
       "20370  tt3862750            Not bad, not good, just meh....\\n       0.5981   \n",
       "20371  tt3862750                        The Imperfect Guise\\n      -0.3182   \n",
       "20372  tt3862750                          Pretty good movie\\n       0.7269   \n",
       "\n",
       "       text_score       date  rating  year  month  \n",
       "0          0.9810 2021-03-28       9  2021      3  \n",
       "1          0.0000 2021-03-20      10  2021      3  \n",
       "2         -0.9966 2021-03-19       6  2021      3  \n",
       "3          0.9258 2021-03-18       9  2021      3  \n",
       "4         -0.9159 2021-03-18       9  2021      3  \n",
       "...           ...        ...     ...   ...    ...  \n",
       "20368      0.0036 2018-07-16       6  2018      7  \n",
       "20369      0.6249 2018-05-13       9  2018      5  \n",
       "20370      0.8568 2017-08-25       5  2017      8  \n",
       "20371      0.9873 2017-04-02       6  2017      4  \n",
       "20372      0.9905 2017-03-08       8  2017      3  \n",
       "\n",
       "[20373 rows x 8 columns]"
      ]
     },
     "execution_count": 204,
     "metadata": {},
     "output_type": "execute_result"
    }
   ],
   "source": [
    "thriller"
   ]
  },
  {
   "cell_type": "code",
   "execution_count": null,
   "metadata": {},
   "outputs": [],
   "source": []
  },
  {
   "cell_type": "code",
   "execution_count": 198,
   "metadata": {},
   "outputs": [
    {
     "data": {
      "text/plain": [
       "<matplotlib.legend.Legend at 0x16f5a4607c0>"
      ]
     },
     "execution_count": 198,
     "metadata": {},
     "output_type": "execute_result"
    },
    {
     "data": {
      "text/plain": [
       "<Figure size 864x432 with 0 Axes>"
      ]
     },
     "metadata": {},
     "output_type": "display_data"
    },
    {
     "data": {
      "image/png": "[encoded data removed]",
      "text/plain": [
       "<Figure size 432x288 with 1 Axes>"
      ]
     },
     "metadata": {
      "needs_background": "light"
     },
     "output_type": "display_data"
    },
    {
     "data": {
      "image/png": "[encoded data removed]",
      "text/plain": [
       "<Figure size 432x288 with 1 Axes>"
      ]
     },
     "metadata": {
      "needs_background": "light"
     },
     "output_type": "display_data"
    }
   ],
   "source": [
    "## Plotting title and text scores\n",
    "plt.figure(figsize=(12,6))\n",
    "t.plot(y='title_score')\n",
    "t.plot(y='text_score')\n",
    "plt.legend()"
   ]
  },
  {
   "cell_type": "code",
   "execution_count": 201,
   "metadata": {
    "scrolled": true
   },
   "outputs": [
    {
     "data": {
      "text/plain": [
       "<matplotlib.legend.Legend at 0x16f5a3e44c0>"
      ]
     },
     "execution_count": 201,
     "metadata": {},
     "output_type": "execute_result"
    },
    {
     "data": {
      "image/png": "[encoded data removed]",
      "text/plain": [
       "<Figure size 864x432 with 1 Axes>"
      ]
     },
     "metadata": {
      "needs_background": "light"
     },
     "output_type": "display_data"
    }
   ],
   "source": [
    "plt.figure(figsize=(12,6))\n",
    "t.xs(key=2020,axis=0,level='year')['title_score'].plot(label='title_score')\n",
    "t.xs(key=2020,axis=0,level='year')['text_score'].plot(label='text_score')\n",
    "plt.legend()"
   ]
  },
  {
   "cell_type": "code",
   "execution_count": 21,
   "metadata": {},
   "outputs": [],
   "source": [
    "### Testing for overall changes in mood and reviews over time "
   ]
  },
  {
   "cell_type": "code",
   "execution_count": 37,
   "metadata": {},
   "outputs": [],
   "source": [
    "# thriller['date'].loc[\"2020-03-31\"]\n"
   ]
  },
  {
   "cell_type": "code",
   "execution_count": 184,
   "metadata": {},
   "outputs": [],
   "source": [
    "# sns.barplot(x='date',y='text_score',data=thriller)"
   ]
  },
  {
   "cell_type": "code",
   "execution_count": null,
   "metadata": {},
   "outputs": [],
   "source": []
  },
  {
   "cell_type": "code",
   "execution_count": 17,
   "metadata": {},
   "outputs": [],
   "source": [
    "# fig = plt.figure(figsize=(120,120))\n",
    "# sns.barplot(x='date',y='review_text_sentiment_score',data=thriller)\n",
    "# plt.xticks(rotation=50)\n",
    "# plt.tight_layout()"
   ]
  },
  {
   "cell_type": "code",
   "execution_count": 18,
   "metadata": {},
   "outputs": [],
   "source": [
    "# fig = plt.figure(figsize=(12,12))\n",
    "# sns.barplot(x='date',y='text_score',data=df)\n",
    "# plt.xticks(rotation=50)\n",
    "# plt.tight_layout()"
   ]
  },
  {
   "cell_type": "code",
   "execution_count": null,
   "metadata": {},
   "outputs": [],
   "source": [
    "# fig = plt.figure(figsize=(12,12))\n",
    "# sns.barplot(x='date',y='text_score',data=thriller)\n",
    "# plt.xticks(rotation=50)\n",
    "# plt.tight_layout()"
   ]
  },
  {
   "cell_type": "code",
   "execution_count": 19,
   "metadata": {},
   "outputs": [],
   "source": [
    "# fig = plt.figure(figsize=(12,12))\n",
    "# # plt.scatter('date','review_title_sentiment_score',data=thriller['date'].loc[])\n",
    "# sns.distplot(thriller['data'].loc['2020-01-01':'2020-12-31'],color='green',bins=100)\n",
    "# # sns.clustermap(data=thriller)\n",
    "# plt.xticks(rotation=50)"
   ]
  },
  {
   "cell_type": "markdown",
   "metadata": {},
   "source": [
    "## Robustness of data"
   ]
  },
  {
   "cell_type": "code",
   "execution_count": 153,
   "metadata": {},
   "outputs": [
    {
     "data": {
      "text/html": [
       "<div>\n",
       "<style scoped>\n",
       "    .dataframe tbody tr th:only-of-type {\n",
       "        vertical-align: middle;\n",
       "    }\n",
       "\n",
       "    .dataframe tbody tr th {\n",
       "        vertical-align: top;\n",
       "    }\n",
       "\n",
       "    .dataframe thead th {\n",
       "        text-align: right;\n",
       "    }\n",
       "</style>\n",
       "<table border=\"1\" class=\"dataframe\">\n",
       "  <thead>\n",
       "    <tr style=\"text-align: right;\">\n",
       "      <th></th>\n",
       "      <th>title_score</th>\n",
       "      <th>text_score</th>\n",
       "      <th>rating</th>\n",
       "      <th>year</th>\n",
       "      <th>month</th>\n",
       "    </tr>\n",
       "  </thead>\n",
       "  <tbody>\n",
       "    <tr>\n",
       "      <th>title_score</th>\n",
       "      <td>1.000000</td>\n",
       "      <td>0.326019</td>\n",
       "      <td>0.412286</td>\n",
       "      <td>0.038142</td>\n",
       "      <td>-0.006232</td>\n",
       "    </tr>\n",
       "    <tr>\n",
       "      <th>text_score</th>\n",
       "      <td>0.326019</td>\n",
       "      <td>1.000000</td>\n",
       "      <td>0.441208</td>\n",
       "      <td>0.025683</td>\n",
       "      <td>-0.020261</td>\n",
       "    </tr>\n",
       "    <tr>\n",
       "      <th>rating</th>\n",
       "      <td>0.412286</td>\n",
       "      <td>0.441208</td>\n",
       "      <td>1.000000</td>\n",
       "      <td>0.026794</td>\n",
       "      <td>-0.006165</td>\n",
       "    </tr>\n",
       "    <tr>\n",
       "      <th>year</th>\n",
       "      <td>0.038142</td>\n",
       "      <td>0.025683</td>\n",
       "      <td>0.026794</td>\n",
       "      <td>1.000000</td>\n",
       "      <td>-0.080789</td>\n",
       "    </tr>\n",
       "    <tr>\n",
       "      <th>month</th>\n",
       "      <td>-0.006232</td>\n",
       "      <td>-0.020261</td>\n",
       "      <td>-0.006165</td>\n",
       "      <td>-0.080789</td>\n",
       "      <td>1.000000</td>\n",
       "    </tr>\n",
       "  </tbody>\n",
       "</table>\n",
       "</div>"
      ],
      "text/plain": [
       "             title_score  text_score    rating      year     month\n",
       "title_score     1.000000    0.326019  0.412286  0.038142 -0.006232\n",
       "text_score      0.326019    1.000000  0.441208  0.025683 -0.020261\n",
       "rating          0.412286    0.441208  1.000000  0.026794 -0.006165\n",
       "year            0.038142    0.025683  0.026794  1.000000 -0.080789\n",
       "month          -0.006232   -0.020261 -0.006165 -0.080789  1.000000"
      ]
     },
     "execution_count": 153,
     "metadata": {},
     "output_type": "execute_result"
    }
   ],
   "source": [
    "thriller.corr()"
   ]
  },
  {
   "cell_type": "code",
   "execution_count": null,
   "metadata": {},
   "outputs": [],
   "source": []
  },
  {
   "cell_type": "code",
   "execution_count": 169,
   "metadata": {},
   "outputs": [
    {
     "data": {
      "text/plain": [
       "title_score    0.65434\n",
       "dtype: float64"
      ]
     },
     "execution_count": 169,
     "metadata": {},
     "output_type": "execute_result"
    }
   ],
   "source": [
    "y=thriller['text_score']\n",
    "x=thriller['title_score']\n",
    "text_title = sm.OLS(y,x, intercept=True)\n",
    "# vix_on_gdp = pd.ols(y=df['VIXCLS'], x=df['GDP'], intercept=True)\n",
    "results = text_title.fit()\n",
    "\n",
    "results.params"
   ]
  },
  {
   "cell_type": "code",
   "execution_count": 173,
   "metadata": {},
   "outputs": [
    {
     "name": "stdout",
     "output_type": "stream",
     "text": [
      "                             Test for Constraints                             \n",
      "==============================================================================\n",
      "                 coef    std err          t      P>|t|      [0.025      0.975]\n",
      "------------------------------------------------------------------------------\n",
      "c0             0.6543      0.012     53.396      0.000       0.630       0.678\n",
      "==============================================================================\n"
     ]
    }
   ],
   "source": [
    "print(results.t_test(1))"
   ]
  },
  {
   "cell_type": "code",
   "execution_count": 177,
   "metadata": {},
   "outputs": [
    {
     "data": {
      "text/plain": [
       "rating    0.047084\n",
       "dtype: float64"
      ]
     },
     "execution_count": 177,
     "metadata": {},
     "output_type": "execute_result"
    }
   ],
   "source": [
    "y1=thriller['text_score']\n",
    "x1=thriller['rating']\n",
    "text_rating = sm.OLS(y1,x1, intercept=True)\n",
    "# vix_on_gdp = pd.ols(y=df['VIXCLS'], x=df['GDP'], intercept=True)\n",
    "results1 =text_rating.fit()\n",
    "\n",
    "results1.params"
   ]
  },
  {
   "cell_type": "code",
   "execution_count": 178,
   "metadata": {},
   "outputs": [
    {
     "name": "stdout",
     "output_type": "stream",
     "text": [
      "                             Test for Constraints                             \n",
      "==============================================================================\n",
      "                 coef    std err          t      P>|t|      [0.025      0.975]\n",
      "------------------------------------------------------------------------------\n",
      "c0             0.0471      0.001     63.812      0.000       0.046       0.049\n",
      "==============================================================================\n"
     ]
    }
   ],
   "source": [
    "print(results1.t_test(1))"
   ]
  },
  {
   "cell_type": "code",
   "execution_count": null,
   "metadata": {},
   "outputs": [],
   "source": []
  }
 ],
 "metadata": {
  "kernelspec": {
   "display_name": "Python 3",
   "language": "python",
   "name": "python3"
  },
  "language_info": {
   "codemirror_mode": {
    "name": "ipython",
    "version": 3
   },
   "file_extension": ".py",
   "mimetype": "text/x-python",
   "name": "python",
   "nbconvert_exporter": "python",
   "pygments_lexer": "ipython3",
   "version": "3.8.5"
  }
 },
 "nbformat": 4,
 "nbformat_minor": 4
}
